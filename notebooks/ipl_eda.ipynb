{
 "cells": [
  {
   "cell_type": "markdown",
   "metadata": {},
   "source": [
    "# IPL Data Analysis (2008-2024)"
   ]
  },
  {
   "cell_type": "markdown",
   "metadata": {},
   "source": [
    "### Importing necessary libraries"
   ]
  },
  {
   "cell_type": "code",
   "execution_count": 12,
   "metadata": {},
   "outputs": [],
   "source": [
    "import pandas as pd\n",
    "import numpy as np\n",
    "import seaborn as sns\n",
    "import matplotlib.pyplot as plt\n",
    "import plotly.express as px\n",
    "from scipy.stats import chi2_contingency, ttest_ind\n",
    "%matplotlib inline"
   ]
  },
  {
   "cell_type": "markdown",
   "metadata": {},
   "source": [
    "### Loading datasets"
   ]
  },
  {
   "cell_type": "code",
   "execution_count": 13,
   "metadata": {},
   "outputs": [],
   "source": [
    "matches = pd.read_csv('../data/matches.csv')\n",
    "deliveries = pd.read_csv('../data/deliveries.csv')"
   ]
  },
  {
   "cell_type": "code",
   "execution_count": 14,
   "metadata": {},
   "outputs": [
    {
     "data": {
      "text/plain": [
       "array(['Kolkata Knight Riders', 'Chennai Super Kings', 'Rajasthan Royals',\n",
       "       'Royal Challengers Bangalore', 'Deccan Chargers',\n",
       "       'Kings XI Punjab', 'Delhi Daredevils', 'Mumbai Indians',\n",
       "       'Kochi Tuskers Kerala', 'Pune Warriors', 'Sunrisers Hyderabad',\n",
       "       'Rising Pune Supergiants', 'Gujarat Lions',\n",
       "       'Rising Pune Supergiant', 'Delhi Capitals', 'Punjab Kings',\n",
       "       'Gujarat Titans', 'Lucknow Super Giants',\n",
       "       'Royal Challengers Bengaluru'], dtype=object)"
      ]
     },
     "execution_count": 14,
     "metadata": {},
     "output_type": "execute_result"
    }
   ],
   "source": [
    "matches['team2'].unique()"
   ]
  },
  {
   "cell_type": "code",
   "execution_count": 15,
   "metadata": {},
   "outputs": [
    {
     "name": "stdout",
     "output_type": "stream",
     "text": [
      "Matches Info:\n",
      "<class 'pandas.core.frame.DataFrame'>\n",
      "RangeIndex: 1095 entries, 0 to 1094\n",
      "Data columns (total 20 columns):\n",
      " #   Column           Non-Null Count  Dtype  \n",
      "---  ------           --------------  -----  \n",
      " 0   id               1095 non-null   int64  \n",
      " 1   season           1095 non-null   object \n",
      " 2   city             1044 non-null   object \n",
      " 3   date             1095 non-null   object \n",
      " 4   match_type       1095 non-null   object \n",
      " 5   player_of_match  1090 non-null   object \n",
      " 6   venue            1095 non-null   object \n",
      " 7   team1            1095 non-null   object \n",
      " 8   team2            1095 non-null   object \n",
      " 9   toss_winner      1095 non-null   object \n",
      " 10  toss_decision    1095 non-null   object \n",
      " 11  winner           1090 non-null   object \n",
      " 12  result           1095 non-null   object \n",
      " 13  result_margin    1076 non-null   float64\n",
      " 14  target_runs      1092 non-null   float64\n",
      " 15  target_overs     1092 non-null   float64\n",
      " 16  super_over       1095 non-null   object \n",
      " 17  method           21 non-null     object \n",
      " 18  umpire1          1095 non-null   object \n",
      " 19  umpire2          1095 non-null   object \n",
      "dtypes: float64(3), int64(1), object(16)\n",
      "memory usage: 171.2+ KB\n",
      "None\n",
      "\n",
      "Deliveries Info:\n",
      "<class 'pandas.core.frame.DataFrame'>\n",
      "RangeIndex: 260920 entries, 0 to 260919\n",
      "Data columns (total 17 columns):\n",
      " #   Column            Non-Null Count   Dtype \n",
      "---  ------            --------------   ----- \n",
      " 0   match_id          260920 non-null  int64 \n",
      " 1   inning            260920 non-null  int64 \n",
      " 2   batting_team      260920 non-null  object\n",
      " 3   bowling_team      260920 non-null  object\n",
      " 4   over              260920 non-null  int64 \n",
      " 5   ball              260920 non-null  int64 \n",
      " 6   batter            260920 non-null  object\n",
      " 7   bowler            260920 non-null  object\n",
      " 8   non_striker       260920 non-null  object\n",
      " 9   batsman_runs      260920 non-null  int64 \n",
      " 10  extra_runs        260920 non-null  int64 \n",
      " 11  total_runs        260920 non-null  int64 \n",
      " 12  extras_type       14125 non-null   object\n",
      " 13  is_wicket         260920 non-null  int64 \n",
      " 14  player_dismissed  12950 non-null   object\n",
      " 15  dismissal_kind    12950 non-null   object\n",
      " 16  fielder           9354 non-null    object\n",
      "dtypes: int64(8), object(9)\n",
      "memory usage: 33.8+ MB\n",
      "None\n"
     ]
    }
   ],
   "source": [
    "# Displaying basic info\n",
    "print('Matches Info:')\n",
    "print(matches.info())\n",
    "print('\\nDeliveries Info:')\n",
    "print(deliveries.info())\n"
   ]
  },
  {
   "cell_type": "code",
   "execution_count": 16,
   "metadata": {},
   "outputs": [
    {
     "data": {
      "application/vnd.microsoft.datawrangler.viewer.v0+json": {
       "columns": [
        {
         "name": "index",
         "rawType": "int64",
         "type": "integer"
        },
        {
         "name": "id",
         "rawType": "int64",
         "type": "integer"
        },
        {
         "name": "season",
         "rawType": "object",
         "type": "string"
        },
        {
         "name": "city",
         "rawType": "object",
         "type": "string"
        },
        {
         "name": "date",
         "rawType": "object",
         "type": "string"
        },
        {
         "name": "match_type",
         "rawType": "object",
         "type": "string"
        },
        {
         "name": "player_of_match",
         "rawType": "object",
         "type": "string"
        },
        {
         "name": "venue",
         "rawType": "object",
         "type": "string"
        },
        {
         "name": "team1",
         "rawType": "object",
         "type": "string"
        },
        {
         "name": "team2",
         "rawType": "object",
         "type": "string"
        },
        {
         "name": "toss_winner",
         "rawType": "object",
         "type": "string"
        },
        {
         "name": "toss_decision",
         "rawType": "object",
         "type": "string"
        },
        {
         "name": "winner",
         "rawType": "object",
         "type": "string"
        },
        {
         "name": "result",
         "rawType": "object",
         "type": "string"
        },
        {
         "name": "result_margin",
         "rawType": "float64",
         "type": "float"
        },
        {
         "name": "target_runs",
         "rawType": "float64",
         "type": "float"
        },
        {
         "name": "target_overs",
         "rawType": "float64",
         "type": "float"
        },
        {
         "name": "super_over",
         "rawType": "object",
         "type": "string"
        },
        {
         "name": "method",
         "rawType": "object",
         "type": "unknown"
        },
        {
         "name": "umpire1",
         "rawType": "object",
         "type": "string"
        },
        {
         "name": "umpire2",
         "rawType": "object",
         "type": "string"
        }
       ],
       "ref": "65ded2b8-0edf-44a1-b78b-3e4cd87e2f31",
       "rows": [
        [
         "0",
         "335982",
         "2007/08",
         "Bangalore",
         "2008-04-18",
         "League",
         "BB McCullum",
         "M Chinnaswamy Stadium",
         "Royal Challengers Bangalore",
         "Kolkata Knight Riders",
         "Royal Challengers Bangalore",
         "field",
         "Kolkata Knight Riders",
         "runs",
         "140.0",
         "223.0",
         "20.0",
         "N",
         null,
         "Asad Rauf",
         "RE Koertzen"
        ],
        [
         "1",
         "335983",
         "2007/08",
         "Chandigarh",
         "2008-04-19",
         "League",
         "MEK Hussey",
         "Punjab Cricket Association Stadium, Mohali",
         "Kings XI Punjab",
         "Chennai Super Kings",
         "Chennai Super Kings",
         "bat",
         "Chennai Super Kings",
         "runs",
         "33.0",
         "241.0",
         "20.0",
         "N",
         null,
         "MR Benson",
         "SL Shastri"
        ],
        [
         "2",
         "335984",
         "2007/08",
         "Delhi",
         "2008-04-19",
         "League",
         "MF Maharoof",
         "Feroz Shah Kotla",
         "Delhi Daredevils",
         "Rajasthan Royals",
         "Rajasthan Royals",
         "bat",
         "Delhi Daredevils",
         "wickets",
         "9.0",
         "130.0",
         "20.0",
         "N",
         null,
         "Aleem Dar",
         "GA Pratapkumar"
        ],
        [
         "3",
         "335985",
         "2007/08",
         "Mumbai",
         "2008-04-20",
         "League",
         "MV Boucher",
         "Wankhede Stadium",
         "Mumbai Indians",
         "Royal Challengers Bangalore",
         "Mumbai Indians",
         "bat",
         "Royal Challengers Bangalore",
         "wickets",
         "5.0",
         "166.0",
         "20.0",
         "N",
         null,
         "SJ Davis",
         "DJ Harper"
        ],
        [
         "4",
         "335986",
         "2007/08",
         "Kolkata",
         "2008-04-20",
         "League",
         "DJ Hussey",
         "Eden Gardens",
         "Kolkata Knight Riders",
         "Deccan Chargers",
         "Deccan Chargers",
         "bat",
         "Kolkata Knight Riders",
         "wickets",
         "5.0",
         "111.0",
         "20.0",
         "N",
         null,
         "BF Bowden",
         "K Hariharan"
        ]
       ],
       "shape": {
        "columns": 20,
        "rows": 5
       }
      },
      "text/html": [
       "<div>\n",
       "<style scoped>\n",
       "    .dataframe tbody tr th:only-of-type {\n",
       "        vertical-align: middle;\n",
       "    }\n",
       "\n",
       "    .dataframe tbody tr th {\n",
       "        vertical-align: top;\n",
       "    }\n",
       "\n",
       "    .dataframe thead th {\n",
       "        text-align: right;\n",
       "    }\n",
       "</style>\n",
       "<table border=\"1\" class=\"dataframe\">\n",
       "  <thead>\n",
       "    <tr style=\"text-align: right;\">\n",
       "      <th></th>\n",
       "      <th>id</th>\n",
       "      <th>season</th>\n",
       "      <th>city</th>\n",
       "      <th>date</th>\n",
       "      <th>match_type</th>\n",
       "      <th>player_of_match</th>\n",
       "      <th>venue</th>\n",
       "      <th>team1</th>\n",
       "      <th>team2</th>\n",
       "      <th>toss_winner</th>\n",
       "      <th>toss_decision</th>\n",
       "      <th>winner</th>\n",
       "      <th>result</th>\n",
       "      <th>result_margin</th>\n",
       "      <th>target_runs</th>\n",
       "      <th>target_overs</th>\n",
       "      <th>super_over</th>\n",
       "      <th>method</th>\n",
       "      <th>umpire1</th>\n",
       "      <th>umpire2</th>\n",
       "    </tr>\n",
       "  </thead>\n",
       "  <tbody>\n",
       "    <tr>\n",
       "      <th>0</th>\n",
       "      <td>335982</td>\n",
       "      <td>2007/08</td>\n",
       "      <td>Bangalore</td>\n",
       "      <td>2008-04-18</td>\n",
       "      <td>League</td>\n",
       "      <td>BB McCullum</td>\n",
       "      <td>M Chinnaswamy Stadium</td>\n",
       "      <td>Royal Challengers Bangalore</td>\n",
       "      <td>Kolkata Knight Riders</td>\n",
       "      <td>Royal Challengers Bangalore</td>\n",
       "      <td>field</td>\n",
       "      <td>Kolkata Knight Riders</td>\n",
       "      <td>runs</td>\n",
       "      <td>140.0</td>\n",
       "      <td>223.0</td>\n",
       "      <td>20.0</td>\n",
       "      <td>N</td>\n",
       "      <td>NaN</td>\n",
       "      <td>Asad Rauf</td>\n",
       "      <td>RE Koertzen</td>\n",
       "    </tr>\n",
       "    <tr>\n",
       "      <th>1</th>\n",
       "      <td>335983</td>\n",
       "      <td>2007/08</td>\n",
       "      <td>Chandigarh</td>\n",
       "      <td>2008-04-19</td>\n",
       "      <td>League</td>\n",
       "      <td>MEK Hussey</td>\n",
       "      <td>Punjab Cricket Association Stadium, Mohali</td>\n",
       "      <td>Kings XI Punjab</td>\n",
       "      <td>Chennai Super Kings</td>\n",
       "      <td>Chennai Super Kings</td>\n",
       "      <td>bat</td>\n",
       "      <td>Chennai Super Kings</td>\n",
       "      <td>runs</td>\n",
       "      <td>33.0</td>\n",
       "      <td>241.0</td>\n",
       "      <td>20.0</td>\n",
       "      <td>N</td>\n",
       "      <td>NaN</td>\n",
       "      <td>MR Benson</td>\n",
       "      <td>SL Shastri</td>\n",
       "    </tr>\n",
       "    <tr>\n",
       "      <th>2</th>\n",
       "      <td>335984</td>\n",
       "      <td>2007/08</td>\n",
       "      <td>Delhi</td>\n",
       "      <td>2008-04-19</td>\n",
       "      <td>League</td>\n",
       "      <td>MF Maharoof</td>\n",
       "      <td>Feroz Shah Kotla</td>\n",
       "      <td>Delhi Daredevils</td>\n",
       "      <td>Rajasthan Royals</td>\n",
       "      <td>Rajasthan Royals</td>\n",
       "      <td>bat</td>\n",
       "      <td>Delhi Daredevils</td>\n",
       "      <td>wickets</td>\n",
       "      <td>9.0</td>\n",
       "      <td>130.0</td>\n",
       "      <td>20.0</td>\n",
       "      <td>N</td>\n",
       "      <td>NaN</td>\n",
       "      <td>Aleem Dar</td>\n",
       "      <td>GA Pratapkumar</td>\n",
       "    </tr>\n",
       "    <tr>\n",
       "      <th>3</th>\n",
       "      <td>335985</td>\n",
       "      <td>2007/08</td>\n",
       "      <td>Mumbai</td>\n",
       "      <td>2008-04-20</td>\n",
       "      <td>League</td>\n",
       "      <td>MV Boucher</td>\n",
       "      <td>Wankhede Stadium</td>\n",
       "      <td>Mumbai Indians</td>\n",
       "      <td>Royal Challengers Bangalore</td>\n",
       "      <td>Mumbai Indians</td>\n",
       "      <td>bat</td>\n",
       "      <td>Royal Challengers Bangalore</td>\n",
       "      <td>wickets</td>\n",
       "      <td>5.0</td>\n",
       "      <td>166.0</td>\n",
       "      <td>20.0</td>\n",
       "      <td>N</td>\n",
       "      <td>NaN</td>\n",
       "      <td>SJ Davis</td>\n",
       "      <td>DJ Harper</td>\n",
       "    </tr>\n",
       "    <tr>\n",
       "      <th>4</th>\n",
       "      <td>335986</td>\n",
       "      <td>2007/08</td>\n",
       "      <td>Kolkata</td>\n",
       "      <td>2008-04-20</td>\n",
       "      <td>League</td>\n",
       "      <td>DJ Hussey</td>\n",
       "      <td>Eden Gardens</td>\n",
       "      <td>Kolkata Knight Riders</td>\n",
       "      <td>Deccan Chargers</td>\n",
       "      <td>Deccan Chargers</td>\n",
       "      <td>bat</td>\n",
       "      <td>Kolkata Knight Riders</td>\n",
       "      <td>wickets</td>\n",
       "      <td>5.0</td>\n",
       "      <td>111.0</td>\n",
       "      <td>20.0</td>\n",
       "      <td>N</td>\n",
       "      <td>NaN</td>\n",
       "      <td>BF Bowden</td>\n",
       "      <td>K Hariharan</td>\n",
       "    </tr>\n",
       "  </tbody>\n",
       "</table>\n",
       "</div>"
      ],
      "text/plain": [
       "       id   season        city        date match_type player_of_match  \\\n",
       "0  335982  2007/08   Bangalore  2008-04-18     League     BB McCullum   \n",
       "1  335983  2007/08  Chandigarh  2008-04-19     League      MEK Hussey   \n",
       "2  335984  2007/08       Delhi  2008-04-19     League     MF Maharoof   \n",
       "3  335985  2007/08      Mumbai  2008-04-20     League      MV Boucher   \n",
       "4  335986  2007/08     Kolkata  2008-04-20     League       DJ Hussey   \n",
       "\n",
       "                                        venue                        team1  \\\n",
       "0                       M Chinnaswamy Stadium  Royal Challengers Bangalore   \n",
       "1  Punjab Cricket Association Stadium, Mohali              Kings XI Punjab   \n",
       "2                            Feroz Shah Kotla             Delhi Daredevils   \n",
       "3                            Wankhede Stadium               Mumbai Indians   \n",
       "4                                Eden Gardens        Kolkata Knight Riders   \n",
       "\n",
       "                         team2                  toss_winner toss_decision  \\\n",
       "0        Kolkata Knight Riders  Royal Challengers Bangalore         field   \n",
       "1          Chennai Super Kings          Chennai Super Kings           bat   \n",
       "2             Rajasthan Royals             Rajasthan Royals           bat   \n",
       "3  Royal Challengers Bangalore               Mumbai Indians           bat   \n",
       "4              Deccan Chargers              Deccan Chargers           bat   \n",
       "\n",
       "                        winner   result  result_margin  target_runs  \\\n",
       "0        Kolkata Knight Riders     runs          140.0        223.0   \n",
       "1          Chennai Super Kings     runs           33.0        241.0   \n",
       "2             Delhi Daredevils  wickets            9.0        130.0   \n",
       "3  Royal Challengers Bangalore  wickets            5.0        166.0   \n",
       "4        Kolkata Knight Riders  wickets            5.0        111.0   \n",
       "\n",
       "   target_overs super_over method    umpire1         umpire2  \n",
       "0          20.0          N    NaN  Asad Rauf     RE Koertzen  \n",
       "1          20.0          N    NaN  MR Benson      SL Shastri  \n",
       "2          20.0          N    NaN  Aleem Dar  GA Pratapkumar  \n",
       "3          20.0          N    NaN   SJ Davis       DJ Harper  \n",
       "4          20.0          N    NaN  BF Bowden     K Hariharan  "
      ]
     },
     "execution_count": 16,
     "metadata": {},
     "output_type": "execute_result"
    }
   ],
   "source": [
    "matches.head()"
   ]
  },
  {
   "cell_type": "code",
   "execution_count": 17,
   "metadata": {},
   "outputs": [
    {
     "data": {
      "application/vnd.microsoft.datawrangler.viewer.v0+json": {
       "columns": [
        {
         "name": "index",
         "rawType": "int64",
         "type": "integer"
        },
        {
         "name": "match_id",
         "rawType": "int64",
         "type": "integer"
        },
        {
         "name": "inning",
         "rawType": "int64",
         "type": "integer"
        },
        {
         "name": "batting_team",
         "rawType": "object",
         "type": "string"
        },
        {
         "name": "bowling_team",
         "rawType": "object",
         "type": "string"
        },
        {
         "name": "over",
         "rawType": "int64",
         "type": "integer"
        },
        {
         "name": "ball",
         "rawType": "int64",
         "type": "integer"
        },
        {
         "name": "batter",
         "rawType": "object",
         "type": "string"
        },
        {
         "name": "bowler",
         "rawType": "object",
         "type": "string"
        },
        {
         "name": "non_striker",
         "rawType": "object",
         "type": "string"
        },
        {
         "name": "batsman_runs",
         "rawType": "int64",
         "type": "integer"
        },
        {
         "name": "extra_runs",
         "rawType": "int64",
         "type": "integer"
        },
        {
         "name": "total_runs",
         "rawType": "int64",
         "type": "integer"
        },
        {
         "name": "extras_type",
         "rawType": "object",
         "type": "unknown"
        },
        {
         "name": "is_wicket",
         "rawType": "int64",
         "type": "integer"
        },
        {
         "name": "player_dismissed",
         "rawType": "object",
         "type": "unknown"
        },
        {
         "name": "dismissal_kind",
         "rawType": "object",
         "type": "unknown"
        },
        {
         "name": "fielder",
         "rawType": "object",
         "type": "unknown"
        }
       ],
       "ref": "2f91a4a7-8d0c-48cb-a8b3-936661acef8c",
       "rows": [
        [
         "0",
         "335982",
         "1",
         "Kolkata Knight Riders",
         "Royal Challengers Bangalore",
         "0",
         "1",
         "SC Ganguly",
         "P Kumar",
         "BB McCullum",
         "0",
         "1",
         "1",
         "legbyes",
         "0",
         null,
         null,
         null
        ],
        [
         "1",
         "335982",
         "1",
         "Kolkata Knight Riders",
         "Royal Challengers Bangalore",
         "0",
         "2",
         "BB McCullum",
         "P Kumar",
         "SC Ganguly",
         "0",
         "0",
         "0",
         null,
         "0",
         null,
         null,
         null
        ],
        [
         "2",
         "335982",
         "1",
         "Kolkata Knight Riders",
         "Royal Challengers Bangalore",
         "0",
         "3",
         "BB McCullum",
         "P Kumar",
         "SC Ganguly",
         "0",
         "1",
         "1",
         "wides",
         "0",
         null,
         null,
         null
        ],
        [
         "3",
         "335982",
         "1",
         "Kolkata Knight Riders",
         "Royal Challengers Bangalore",
         "0",
         "4",
         "BB McCullum",
         "P Kumar",
         "SC Ganguly",
         "0",
         "0",
         "0",
         null,
         "0",
         null,
         null,
         null
        ],
        [
         "4",
         "335982",
         "1",
         "Kolkata Knight Riders",
         "Royal Challengers Bangalore",
         "0",
         "5",
         "BB McCullum",
         "P Kumar",
         "SC Ganguly",
         "0",
         "0",
         "0",
         null,
         "0",
         null,
         null,
         null
        ]
       ],
       "shape": {
        "columns": 17,
        "rows": 5
       }
      },
      "text/html": [
       "<div>\n",
       "<style scoped>\n",
       "    .dataframe tbody tr th:only-of-type {\n",
       "        vertical-align: middle;\n",
       "    }\n",
       "\n",
       "    .dataframe tbody tr th {\n",
       "        vertical-align: top;\n",
       "    }\n",
       "\n",
       "    .dataframe thead th {\n",
       "        text-align: right;\n",
       "    }\n",
       "</style>\n",
       "<table border=\"1\" class=\"dataframe\">\n",
       "  <thead>\n",
       "    <tr style=\"text-align: right;\">\n",
       "      <th></th>\n",
       "      <th>match_id</th>\n",
       "      <th>inning</th>\n",
       "      <th>batting_team</th>\n",
       "      <th>bowling_team</th>\n",
       "      <th>over</th>\n",
       "      <th>ball</th>\n",
       "      <th>batter</th>\n",
       "      <th>bowler</th>\n",
       "      <th>non_striker</th>\n",
       "      <th>batsman_runs</th>\n",
       "      <th>extra_runs</th>\n",
       "      <th>total_runs</th>\n",
       "      <th>extras_type</th>\n",
       "      <th>is_wicket</th>\n",
       "      <th>player_dismissed</th>\n",
       "      <th>dismissal_kind</th>\n",
       "      <th>fielder</th>\n",
       "    </tr>\n",
       "  </thead>\n",
       "  <tbody>\n",
       "    <tr>\n",
       "      <th>0</th>\n",
       "      <td>335982</td>\n",
       "      <td>1</td>\n",
       "      <td>Kolkata Knight Riders</td>\n",
       "      <td>Royal Challengers Bangalore</td>\n",
       "      <td>0</td>\n",
       "      <td>1</td>\n",
       "      <td>SC Ganguly</td>\n",
       "      <td>P Kumar</td>\n",
       "      <td>BB McCullum</td>\n",
       "      <td>0</td>\n",
       "      <td>1</td>\n",
       "      <td>1</td>\n",
       "      <td>legbyes</td>\n",
       "      <td>0</td>\n",
       "      <td>NaN</td>\n",
       "      <td>NaN</td>\n",
       "      <td>NaN</td>\n",
       "    </tr>\n",
       "    <tr>\n",
       "      <th>1</th>\n",
       "      <td>335982</td>\n",
       "      <td>1</td>\n",
       "      <td>Kolkata Knight Riders</td>\n",
       "      <td>Royal Challengers Bangalore</td>\n",
       "      <td>0</td>\n",
       "      <td>2</td>\n",
       "      <td>BB McCullum</td>\n",
       "      <td>P Kumar</td>\n",
       "      <td>SC Ganguly</td>\n",
       "      <td>0</td>\n",
       "      <td>0</td>\n",
       "      <td>0</td>\n",
       "      <td>NaN</td>\n",
       "      <td>0</td>\n",
       "      <td>NaN</td>\n",
       "      <td>NaN</td>\n",
       "      <td>NaN</td>\n",
       "    </tr>\n",
       "    <tr>\n",
       "      <th>2</th>\n",
       "      <td>335982</td>\n",
       "      <td>1</td>\n",
       "      <td>Kolkata Knight Riders</td>\n",
       "      <td>Royal Challengers Bangalore</td>\n",
       "      <td>0</td>\n",
       "      <td>3</td>\n",
       "      <td>BB McCullum</td>\n",
       "      <td>P Kumar</td>\n",
       "      <td>SC Ganguly</td>\n",
       "      <td>0</td>\n",
       "      <td>1</td>\n",
       "      <td>1</td>\n",
       "      <td>wides</td>\n",
       "      <td>0</td>\n",
       "      <td>NaN</td>\n",
       "      <td>NaN</td>\n",
       "      <td>NaN</td>\n",
       "    </tr>\n",
       "    <tr>\n",
       "      <th>3</th>\n",
       "      <td>335982</td>\n",
       "      <td>1</td>\n",
       "      <td>Kolkata Knight Riders</td>\n",
       "      <td>Royal Challengers Bangalore</td>\n",
       "      <td>0</td>\n",
       "      <td>4</td>\n",
       "      <td>BB McCullum</td>\n",
       "      <td>P Kumar</td>\n",
       "      <td>SC Ganguly</td>\n",
       "      <td>0</td>\n",
       "      <td>0</td>\n",
       "      <td>0</td>\n",
       "      <td>NaN</td>\n",
       "      <td>0</td>\n",
       "      <td>NaN</td>\n",
       "      <td>NaN</td>\n",
       "      <td>NaN</td>\n",
       "    </tr>\n",
       "    <tr>\n",
       "      <th>4</th>\n",
       "      <td>335982</td>\n",
       "      <td>1</td>\n",
       "      <td>Kolkata Knight Riders</td>\n",
       "      <td>Royal Challengers Bangalore</td>\n",
       "      <td>0</td>\n",
       "      <td>5</td>\n",
       "      <td>BB McCullum</td>\n",
       "      <td>P Kumar</td>\n",
       "      <td>SC Ganguly</td>\n",
       "      <td>0</td>\n",
       "      <td>0</td>\n",
       "      <td>0</td>\n",
       "      <td>NaN</td>\n",
       "      <td>0</td>\n",
       "      <td>NaN</td>\n",
       "      <td>NaN</td>\n",
       "      <td>NaN</td>\n",
       "    </tr>\n",
       "  </tbody>\n",
       "</table>\n",
       "</div>"
      ],
      "text/plain": [
       "   match_id  inning           batting_team                 bowling_team  over  \\\n",
       "0    335982       1  Kolkata Knight Riders  Royal Challengers Bangalore     0   \n",
       "1    335982       1  Kolkata Knight Riders  Royal Challengers Bangalore     0   \n",
       "2    335982       1  Kolkata Knight Riders  Royal Challengers Bangalore     0   \n",
       "3    335982       1  Kolkata Knight Riders  Royal Challengers Bangalore     0   \n",
       "4    335982       1  Kolkata Knight Riders  Royal Challengers Bangalore     0   \n",
       "\n",
       "   ball       batter   bowler  non_striker  batsman_runs  extra_runs  \\\n",
       "0     1   SC Ganguly  P Kumar  BB McCullum             0           1   \n",
       "1     2  BB McCullum  P Kumar   SC Ganguly             0           0   \n",
       "2     3  BB McCullum  P Kumar   SC Ganguly             0           1   \n",
       "3     4  BB McCullum  P Kumar   SC Ganguly             0           0   \n",
       "4     5  BB McCullum  P Kumar   SC Ganguly             0           0   \n",
       "\n",
       "   total_runs extras_type  is_wicket player_dismissed dismissal_kind fielder  \n",
       "0           1     legbyes          0              NaN            NaN     NaN  \n",
       "1           0         NaN          0              NaN            NaN     NaN  \n",
       "2           1       wides          0              NaN            NaN     NaN  \n",
       "3           0         NaN          0              NaN            NaN     NaN  \n",
       "4           0         NaN          0              NaN            NaN     NaN  "
      ]
     },
     "execution_count": 17,
     "metadata": {},
     "output_type": "execute_result"
    }
   ],
   "source": [
    "deliveries.head()"
   ]
  },
  {
   "cell_type": "markdown",
   "metadata": {},
   "source": [
    "### Data Cleaning\n",
    "### Handle missing values"
   ]
  },
  {
   "cell_type": "code",
   "execution_count": 18,
   "metadata": {},
   "outputs": [],
   "source": [
    "matches['winner'].fillna('No Result', inplace=True)\n",
    "matches['result_margin'].fillna(0, inplace=True)\n",
    "matches['method'].fillna('Standard', inplace=True)  # Mark D/L games\n",
    "deliveries['player_dismissed'].fillna('Not Out', inplace=True)"
   ]
  },
  {
   "cell_type": "code",
   "execution_count": 19,
   "metadata": {},
   "outputs": [
    {
     "data": {
      "application/vnd.microsoft.datawrangler.viewer.v0+json": {
       "columns": [
        {
         "name": "index",
         "rawType": "object",
         "type": "string"
        },
        {
         "name": "0",
         "rawType": "int64",
         "type": "integer"
        }
       ],
       "ref": "f6280964-b30f-4e74-af3b-2e83b319b0ce",
       "rows": [
        [
         "id",
         "0"
        ],
        [
         "season",
         "0"
        ],
        [
         "city",
         "51"
        ],
        [
         "date",
         "0"
        ],
        [
         "match_type",
         "0"
        ],
        [
         "player_of_match",
         "5"
        ],
        [
         "venue",
         "0"
        ],
        [
         "team1",
         "0"
        ],
        [
         "team2",
         "0"
        ],
        [
         "toss_winner",
         "0"
        ],
        [
         "toss_decision",
         "0"
        ],
        [
         "winner",
         "0"
        ],
        [
         "result",
         "0"
        ],
        [
         "result_margin",
         "0"
        ],
        [
         "target_runs",
         "3"
        ],
        [
         "target_overs",
         "3"
        ],
        [
         "super_over",
         "0"
        ],
        [
         "method",
         "0"
        ],
        [
         "umpire1",
         "0"
        ],
        [
         "umpire2",
         "0"
        ]
       ],
       "shape": {
        "columns": 1,
        "rows": 20
       }
      },
      "text/plain": [
       "id                  0\n",
       "season              0\n",
       "city               51\n",
       "date                0\n",
       "match_type          0\n",
       "player_of_match     5\n",
       "venue               0\n",
       "team1               0\n",
       "team2               0\n",
       "toss_winner         0\n",
       "toss_decision       0\n",
       "winner              0\n",
       "result              0\n",
       "result_margin       0\n",
       "target_runs         3\n",
       "target_overs        3\n",
       "super_over          0\n",
       "method              0\n",
       "umpire1             0\n",
       "umpire2             0\n",
       "dtype: int64"
      ]
     },
     "execution_count": 19,
     "metadata": {},
     "output_type": "execute_result"
    }
   ],
   "source": [
    "matches.isna().sum()"
   ]
  },
  {
   "cell_type": "code",
   "execution_count": 20,
   "metadata": {},
   "outputs": [
    {
     "data": {
      "application/vnd.microsoft.datawrangler.viewer.v0+json": {
       "columns": [
        {
         "name": "index",
         "rawType": "object",
         "type": "string"
        },
        {
         "name": "0",
         "rawType": "int64",
         "type": "integer"
        }
       ],
       "ref": "3792d4dc-408c-43f5-bc74-6ace4e11b52a",
       "rows": [
        [
         "match_id",
         "0"
        ],
        [
         "inning",
         "0"
        ],
        [
         "batting_team",
         "0"
        ],
        [
         "bowling_team",
         "0"
        ],
        [
         "over",
         "0"
        ],
        [
         "ball",
         "0"
        ],
        [
         "batter",
         "0"
        ],
        [
         "bowler",
         "0"
        ],
        [
         "non_striker",
         "0"
        ],
        [
         "batsman_runs",
         "0"
        ],
        [
         "extra_runs",
         "0"
        ],
        [
         "total_runs",
         "0"
        ],
        [
         "extras_type",
         "246795"
        ],
        [
         "is_wicket",
         "0"
        ],
        [
         "player_dismissed",
         "0"
        ],
        [
         "dismissal_kind",
         "247970"
        ],
        [
         "fielder",
         "251566"
        ]
       ],
       "shape": {
        "columns": 1,
        "rows": 17
       }
      },
      "text/plain": [
       "match_id                 0\n",
       "inning                   0\n",
       "batting_team             0\n",
       "bowling_team             0\n",
       "over                     0\n",
       "ball                     0\n",
       "batter                   0\n",
       "bowler                   0\n",
       "non_striker              0\n",
       "batsman_runs             0\n",
       "extra_runs               0\n",
       "total_runs               0\n",
       "extras_type         246795\n",
       "is_wicket                0\n",
       "player_dismissed         0\n",
       "dismissal_kind      247970\n",
       "fielder             251566\n",
       "dtype: int64"
      ]
     },
     "execution_count": 20,
     "metadata": {},
     "output_type": "execute_result"
    }
   ],
   "source": [
    "deliveries.isna().sum()"
   ]
  },
  {
   "cell_type": "code",
   "execution_count": 21,
   "metadata": {},
   "outputs": [
    {
     "data": {
      "text/plain": [
       "array(['Standard', 'D/L'], dtype=object)"
      ]
     },
     "execution_count": 21,
     "metadata": {},
     "output_type": "execute_result"
    }
   ],
   "source": [
    "matches.method.unique()"
   ]
  },
  {
   "cell_type": "markdown",
   "metadata": {},
   "source": [
    "### Standardizing team names"
   ]
  },
  {
   "cell_type": "code",
   "execution_count": 22,
   "metadata": {},
   "outputs": [],
   "source": [
    "# Standardize team names\n",
    "team_mapping = {\n",
    "    'Delhi Daredevils': 'Delhi Capitals',\n",
    "    'Deccan Chargers': 'Sunrisers Hyderabad',\n",
    "    'Kings XI Punjab': 'Punjab Kings',\n",
    "    'Royal Challengers Bengaluru': 'Royal Challengers Bangalore',\n",
    "    'Rising Pune Supergiant': 'Rising Pune Supergiants',\n",
    "    'Rising Pune Supergaints': 'Rising Pune Supergiants'  # Added to merge redundant name\n",
    "}\n",
    "matches.replace(team_mapping, inplace=True)\n",
    "deliveries.replace(team_mapping, inplace=True)\n"
   ]
  },
  {
   "cell_type": "code",
   "execution_count": 23,
   "metadata": {},
   "outputs": [
    {
     "data": {
      "text/plain": [
       "array(['Kolkata Knight Riders', 'Chennai Super Kings', 'Rajasthan Royals',\n",
       "       'Royal Challengers Bangalore', 'Sunrisers Hyderabad',\n",
       "       'Punjab Kings', 'Delhi Capitals', 'Mumbai Indians',\n",
       "       'Kochi Tuskers Kerala', 'Pune Warriors', 'Rising Pune Supergiants',\n",
       "       'Gujarat Lions', 'Gujarat Titans', 'Lucknow Super Giants'],\n",
       "      dtype=object)"
      ]
     },
     "execution_count": 23,
     "metadata": {},
     "output_type": "execute_result"
    }
   ],
   "source": [
    "matches['team2'].unique()"
   ]
  },
  {
   "cell_type": "code",
   "execution_count": 24,
   "metadata": {},
   "outputs": [
    {
     "data": {
      "text/plain": [
       "['Chennai Super Kings',\n",
       " 'Delhi Capitals',\n",
       " 'Gujarat Lions',\n",
       " 'Gujarat Titans',\n",
       " 'Kochi Tuskers Kerala',\n",
       " 'Kolkata Knight Riders',\n",
       " 'Lucknow Super Giants',\n",
       " 'Mumbai Indians',\n",
       " 'Pune Warriors',\n",
       " 'Punjab Kings',\n",
       " 'Rajasthan Royals',\n",
       " 'Rising Pune Supergiants',\n",
       " 'Royal Challengers Bangalore',\n",
       " 'Sunrisers Hyderabad']"
      ]
     },
     "execution_count": 24,
     "metadata": {},
     "output_type": "execute_result"
    }
   ],
   "source": [
    "sorted(set(matches['team1'].unique()) | set(matches['team2'].unique()))"
   ]
  },
  {
   "cell_type": "code",
   "execution_count": 25,
   "metadata": {},
   "outputs": [],
   "source": [
    "kpis = {}\n",
    "team_totals = deliveries.groupby(['match_id', 'batting_team', 'bowling_team'])['total_runs'].sum().reset_index()\n",
    "kpis['highest_team_totals'] = team_totals.sort_values('total_runs', ascending=False).head(10)"
   ]
  },
  {
   "cell_type": "code",
   "execution_count": 26,
   "metadata": {},
   "outputs": [
    {
     "data": {
      "application/vnd.microsoft.datawrangler.viewer.v0+json": {
       "columns": [
        {
         "name": "index",
         "rawType": "int64",
         "type": "integer"
        },
        {
         "name": "match_id",
         "rawType": "int64",
         "type": "integer"
        },
        {
         "name": "batting_team",
         "rawType": "object",
         "type": "string"
        },
        {
         "name": "bowling_team",
         "rawType": "object",
         "type": "string"
        },
        {
         "name": "total_runs",
         "rawType": "int64",
         "type": "integer"
        }
       ],
       "ref": "162ea707-1604-42af-ae9f-67c804df0fa3",
       "rows": [
        [
         "0",
         "335982",
         "Kolkata Knight Riders",
         "Royal Challengers Bangalore",
         "222"
        ],
        [
         "1",
         "335982",
         "Royal Challengers Bangalore",
         "Kolkata Knight Riders",
         "82"
        ],
        [
         "2",
         "335983",
         "Chennai Super Kings",
         "Punjab Kings",
         "240"
        ],
        [
         "3",
         "335983",
         "Punjab Kings",
         "Chennai Super Kings",
         "207"
        ],
        [
         "4",
         "335984",
         "Delhi Capitals",
         "Rajasthan Royals",
         "132"
        ],
        [
         "5",
         "335984",
         "Rajasthan Royals",
         "Delhi Capitals",
         "129"
        ],
        [
         "6",
         "335985",
         "Mumbai Indians",
         "Royal Challengers Bangalore",
         "165"
        ],
        [
         "7",
         "335985",
         "Royal Challengers Bangalore",
         "Mumbai Indians",
         "166"
        ],
        [
         "8",
         "335986",
         "Kolkata Knight Riders",
         "Sunrisers Hyderabad",
         "112"
        ],
        [
         "9",
         "335986",
         "Sunrisers Hyderabad",
         "Kolkata Knight Riders",
         "110"
        ],
        [
         "10",
         "335987",
         "Punjab Kings",
         "Rajasthan Royals",
         "166"
        ],
        [
         "11",
         "335987",
         "Rajasthan Royals",
         "Punjab Kings",
         "168"
        ],
        [
         "12",
         "335988",
         "Delhi Capitals",
         "Sunrisers Hyderabad",
         "143"
        ],
        [
         "13",
         "335988",
         "Sunrisers Hyderabad",
         "Delhi Capitals",
         "142"
        ],
        [
         "14",
         "335989",
         "Chennai Super Kings",
         "Mumbai Indians",
         "208"
        ],
        [
         "15",
         "335989",
         "Mumbai Indians",
         "Chennai Super Kings",
         "202"
        ],
        [
         "16",
         "335990",
         "Rajasthan Royals",
         "Sunrisers Hyderabad",
         "217"
        ],
        [
         "17",
         "335990",
         "Sunrisers Hyderabad",
         "Rajasthan Royals",
         "214"
        ],
        [
         "18",
         "335991",
         "Mumbai Indians",
         "Punjab Kings",
         "116"
        ],
        [
         "19",
         "335991",
         "Punjab Kings",
         "Mumbai Indians",
         "182"
        ],
        [
         "20",
         "335992",
         "Rajasthan Royals",
         "Royal Challengers Bangalore",
         "138"
        ],
        [
         "21",
         "335992",
         "Royal Challengers Bangalore",
         "Rajasthan Royals",
         "135"
        ],
        [
         "22",
         "335993",
         "Chennai Super Kings",
         "Kolkata Knight Riders",
         "152"
        ],
        [
         "23",
         "335993",
         "Kolkata Knight Riders",
         "Chennai Super Kings",
         "147"
        ],
        [
         "24",
         "335994",
         "Mumbai Indians",
         "Sunrisers Hyderabad",
         "154"
        ],
        [
         "25",
         "335994",
         "Sunrisers Hyderabad",
         "Mumbai Indians",
         "155"
        ],
        [
         "26",
         "335995",
         "Delhi Capitals",
         "Punjab Kings",
         "158"
        ],
        [
         "27",
         "335995",
         "Punjab Kings",
         "Delhi Capitals",
         "162"
        ],
        [
         "28",
         "335996",
         "Chennai Super Kings",
         "Royal Challengers Bangalore",
         "178"
        ],
        [
         "29",
         "335996",
         "Royal Challengers Bangalore",
         "Chennai Super Kings",
         "165"
        ],
        [
         "30",
         "335997",
         "Kolkata Knight Riders",
         "Mumbai Indians",
         "137"
        ],
        [
         "31",
         "335997",
         "Mumbai Indians",
         "Kolkata Knight Riders",
         "138"
        ],
        [
         "32",
         "335998",
         "Delhi Capitals",
         "Royal Challengers Bangalore",
         "191"
        ],
        [
         "33",
         "335998",
         "Royal Challengers Bangalore",
         "Delhi Capitals",
         "181"
        ],
        [
         "34",
         "335999",
         "Punjab Kings",
         "Sunrisers Hyderabad",
         "167"
        ],
        [
         "35",
         "335999",
         "Sunrisers Hyderabad",
         "Punjab Kings",
         "164"
        ],
        [
         "36",
         "336000",
         "Kolkata Knight Riders",
         "Rajasthan Royals",
         "151"
        ],
        [
         "37",
         "336000",
         "Rajasthan Royals",
         "Kolkata Knight Riders",
         "196"
        ],
        [
         "38",
         "336001",
         "Chennai Super Kings",
         "Delhi Capitals",
         "169"
        ],
        [
         "39",
         "336001",
         "Delhi Capitals",
         "Chennai Super Kings",
         "172"
        ],
        [
         "40",
         "336002",
         "Royal Challengers Bangalore",
         "Sunrisers Hyderabad",
         "171"
        ],
        [
         "41",
         "336002",
         "Sunrisers Hyderabad",
         "Royal Challengers Bangalore",
         "165"
        ],
        [
         "42",
         "336003",
         "Kolkata Knight Riders",
         "Punjab Kings",
         "169"
        ],
        [
         "43",
         "336003",
         "Punjab Kings",
         "Kolkata Knight Riders",
         "178"
        ],
        [
         "44",
         "336004",
         "Delhi Capitals",
         "Mumbai Indians",
         "133"
        ],
        [
         "45",
         "336004",
         "Mumbai Indians",
         "Delhi Capitals",
         "162"
        ],
        [
         "46",
         "336005",
         "Chennai Super Kings",
         "Rajasthan Royals",
         "109"
        ],
        [
         "47",
         "336005",
         "Rajasthan Royals",
         "Chennai Super Kings",
         "110"
        ],
        [
         "48",
         "336006",
         "Punjab Kings",
         "Royal Challengers Bangalore",
         "127"
        ],
        [
         "49",
         "336006",
         "Royal Challengers Bangalore",
         "Punjab Kings",
         "126"
        ]
       ],
       "shape": {
        "columns": 4,
        "rows": 2187
       }
      },
      "text/html": [
       "<div>\n",
       "<style scoped>\n",
       "    .dataframe tbody tr th:only-of-type {\n",
       "        vertical-align: middle;\n",
       "    }\n",
       "\n",
       "    .dataframe tbody tr th {\n",
       "        vertical-align: top;\n",
       "    }\n",
       "\n",
       "    .dataframe thead th {\n",
       "        text-align: right;\n",
       "    }\n",
       "</style>\n",
       "<table border=\"1\" class=\"dataframe\">\n",
       "  <thead>\n",
       "    <tr style=\"text-align: right;\">\n",
       "      <th></th>\n",
       "      <th>match_id</th>\n",
       "      <th>batting_team</th>\n",
       "      <th>bowling_team</th>\n",
       "      <th>total_runs</th>\n",
       "    </tr>\n",
       "  </thead>\n",
       "  <tbody>\n",
       "    <tr>\n",
       "      <th>0</th>\n",
       "      <td>335982</td>\n",
       "      <td>Kolkata Knight Riders</td>\n",
       "      <td>Royal Challengers Bangalore</td>\n",
       "      <td>222</td>\n",
       "    </tr>\n",
       "    <tr>\n",
       "      <th>1</th>\n",
       "      <td>335982</td>\n",
       "      <td>Royal Challengers Bangalore</td>\n",
       "      <td>Kolkata Knight Riders</td>\n",
       "      <td>82</td>\n",
       "    </tr>\n",
       "    <tr>\n",
       "      <th>2</th>\n",
       "      <td>335983</td>\n",
       "      <td>Chennai Super Kings</td>\n",
       "      <td>Punjab Kings</td>\n",
       "      <td>240</td>\n",
       "    </tr>\n",
       "    <tr>\n",
       "      <th>3</th>\n",
       "      <td>335983</td>\n",
       "      <td>Punjab Kings</td>\n",
       "      <td>Chennai Super Kings</td>\n",
       "      <td>207</td>\n",
       "    </tr>\n",
       "    <tr>\n",
       "      <th>4</th>\n",
       "      <td>335984</td>\n",
       "      <td>Delhi Capitals</td>\n",
       "      <td>Rajasthan Royals</td>\n",
       "      <td>132</td>\n",
       "    </tr>\n",
       "    <tr>\n",
       "      <th>...</th>\n",
       "      <td>...</td>\n",
       "      <td>...</td>\n",
       "      <td>...</td>\n",
       "      <td>...</td>\n",
       "    </tr>\n",
       "    <tr>\n",
       "      <th>2182</th>\n",
       "      <td>1426310</td>\n",
       "      <td>Royal Challengers Bangalore</td>\n",
       "      <td>Rajasthan Royals</td>\n",
       "      <td>172</td>\n",
       "    </tr>\n",
       "    <tr>\n",
       "      <th>2183</th>\n",
       "      <td>1426311</td>\n",
       "      <td>Rajasthan Royals</td>\n",
       "      <td>Sunrisers Hyderabad</td>\n",
       "      <td>139</td>\n",
       "    </tr>\n",
       "    <tr>\n",
       "      <th>2184</th>\n",
       "      <td>1426311</td>\n",
       "      <td>Sunrisers Hyderabad</td>\n",
       "      <td>Rajasthan Royals</td>\n",
       "      <td>175</td>\n",
       "    </tr>\n",
       "    <tr>\n",
       "      <th>2185</th>\n",
       "      <td>1426312</td>\n",
       "      <td>Kolkata Knight Riders</td>\n",
       "      <td>Sunrisers Hyderabad</td>\n",
       "      <td>114</td>\n",
       "    </tr>\n",
       "    <tr>\n",
       "      <th>2186</th>\n",
       "      <td>1426312</td>\n",
       "      <td>Sunrisers Hyderabad</td>\n",
       "      <td>Kolkata Knight Riders</td>\n",
       "      <td>113</td>\n",
       "    </tr>\n",
       "  </tbody>\n",
       "</table>\n",
       "<p>2187 rows × 4 columns</p>\n",
       "</div>"
      ],
      "text/plain": [
       "      match_id                 batting_team                 bowling_team  \\\n",
       "0       335982        Kolkata Knight Riders  Royal Challengers Bangalore   \n",
       "1       335982  Royal Challengers Bangalore        Kolkata Knight Riders   \n",
       "2       335983          Chennai Super Kings                 Punjab Kings   \n",
       "3       335983                 Punjab Kings          Chennai Super Kings   \n",
       "4       335984               Delhi Capitals             Rajasthan Royals   \n",
       "...        ...                          ...                          ...   \n",
       "2182   1426310  Royal Challengers Bangalore             Rajasthan Royals   \n",
       "2183   1426311             Rajasthan Royals          Sunrisers Hyderabad   \n",
       "2184   1426311          Sunrisers Hyderabad             Rajasthan Royals   \n",
       "2185   1426312        Kolkata Knight Riders          Sunrisers Hyderabad   \n",
       "2186   1426312          Sunrisers Hyderabad        Kolkata Knight Riders   \n",
       "\n",
       "      total_runs  \n",
       "0            222  \n",
       "1             82  \n",
       "2            240  \n",
       "3            207  \n",
       "4            132  \n",
       "...          ...  \n",
       "2182         172  \n",
       "2183         139  \n",
       "2184         175  \n",
       "2185         114  \n",
       "2186         113  \n",
       "\n",
       "[2187 rows x 4 columns]"
      ]
     },
     "execution_count": 26,
     "metadata": {},
     "output_type": "execute_result"
    }
   ],
   "source": [
    "team_totals"
   ]
  },
  {
   "cell_type": "markdown",
   "metadata": {},
   "source": [
    "### Remove duplicates"
   ]
  },
  {
   "cell_type": "code",
   "execution_count": 68,
   "metadata": {},
   "outputs": [],
   "source": [
    "matches = matches.drop_duplicates(subset=['id'])\n",
    "deliveries = deliveries.drop_duplicates(subset=['match_id', 'inning', 'over', 'ball', 'batter', 'bowler'])"
   ]
  },
  {
   "cell_type": "code",
   "execution_count": 69,
   "metadata": {},
   "outputs": [],
   "source": [
    "# Feature Engineering\n",
    "# Deriving season from date\n",
    "matches['season'] = pd.to_datetime(matches['date']).dt.year\n"
   ]
  },
  {
   "cell_type": "code",
   "execution_count": 70,
   "metadata": {},
   "outputs": [
    {
     "data": {
      "application/vnd.microsoft.datawrangler.viewer.v0+json": {
       "columns": [
        {
         "name": "index",
         "rawType": "int64",
         "type": "integer"
        },
        {
         "name": "season",
         "rawType": "int32",
         "type": "integer"
        }
       ],
       "ref": "98dee129-077f-45a6-b9ef-05cb8c8da6f9",
       "rows": [
        [
         "0",
         "2008"
        ],
        [
         "1",
         "2008"
        ],
        [
         "2",
         "2008"
        ],
        [
         "3",
         "2008"
        ],
        [
         "4",
         "2008"
        ],
        [
         "5",
         "2008"
        ],
        [
         "6",
         "2008"
        ],
        [
         "7",
         "2008"
        ],
        [
         "8",
         "2008"
        ],
        [
         "9",
         "2008"
        ],
        [
         "10",
         "2008"
        ],
        [
         "11",
         "2008"
        ],
        [
         "12",
         "2008"
        ],
        [
         "13",
         "2008"
        ],
        [
         "14",
         "2008"
        ],
        [
         "15",
         "2008"
        ],
        [
         "16",
         "2008"
        ],
        [
         "17",
         "2008"
        ],
        [
         "18",
         "2008"
        ],
        [
         "19",
         "2008"
        ],
        [
         "20",
         "2008"
        ],
        [
         "21",
         "2008"
        ],
        [
         "22",
         "2008"
        ],
        [
         "23",
         "2008"
        ],
        [
         "24",
         "2008"
        ],
        [
         "25",
         "2008"
        ],
        [
         "26",
         "2008"
        ],
        [
         "27",
         "2008"
        ],
        [
         "28",
         "2008"
        ],
        [
         "29",
         "2008"
        ],
        [
         "30",
         "2008"
        ],
        [
         "31",
         "2008"
        ],
        [
         "32",
         "2008"
        ],
        [
         "33",
         "2008"
        ],
        [
         "34",
         "2008"
        ],
        [
         "35",
         "2008"
        ],
        [
         "36",
         "2008"
        ],
        [
         "37",
         "2008"
        ],
        [
         "38",
         "2008"
        ],
        [
         "39",
         "2008"
        ],
        [
         "40",
         "2008"
        ],
        [
         "41",
         "2008"
        ],
        [
         "42",
         "2008"
        ],
        [
         "43",
         "2008"
        ],
        [
         "44",
         "2008"
        ],
        [
         "45",
         "2008"
        ],
        [
         "46",
         "2008"
        ],
        [
         "47",
         "2008"
        ],
        [
         "48",
         "2008"
        ],
        [
         "49",
         "2008"
        ]
       ],
       "shape": {
        "columns": 1,
        "rows": 1095
       }
      },
      "text/plain": [
       "0       2008\n",
       "1       2008\n",
       "2       2008\n",
       "3       2008\n",
       "4       2008\n",
       "        ... \n",
       "1090    2024\n",
       "1091    2024\n",
       "1092    2024\n",
       "1093    2024\n",
       "1094    2024\n",
       "Name: season, Length: 1095, dtype: int32"
      ]
     },
     "execution_count": 70,
     "metadata": {},
     "output_type": "execute_result"
    }
   ],
   "source": [
    "matches['season']"
   ]
  },
  {
   "cell_type": "code",
   "execution_count": 71,
   "metadata": {},
   "outputs": [],
   "source": [
    "# Merge deliveries with matches to get season\n",
    "deliveries = deliveries.merge(matches[['id', 'season', 'venue', 'match_type']], left_on='match_id', right_on='id', how='left')"
   ]
  },
  {
   "cell_type": "code",
   "execution_count": 72,
   "metadata": {},
   "outputs": [
    {
     "name": "stdout",
     "output_type": "stream",
     "text": [
      "Total Matches: 1095\n"
     ]
    }
   ],
   "source": [
    "# Total matches\n",
    "total_matches = matches.shape[0]\n",
    "print(f'Total Matches: {total_matches}')"
   ]
  },
  {
   "cell_type": "code",
   "execution_count": 73,
   "metadata": {},
   "outputs": [
    {
     "name": "stdout",
     "output_type": "stream",
     "text": [
      "\n",
      "Matches per Team:\n",
      "Mumbai Indians                 261\n",
      "Sunrisers Hyderabad            257\n",
      "Delhi Capitals                 252\n",
      "Kolkata Knight Riders          251\n",
      "Punjab Kings                   246\n",
      "Royal Challengers Bangalore    240\n",
      "Chennai Super Kings            238\n",
      "Rajasthan Royals               221\n",
      "Pune Warriors                   46\n",
      "Gujarat Titans                  45\n",
      "Lucknow Super Giants            44\n",
      "Gujarat Lions                   30\n",
      "Rising Pune Supergiant          16\n",
      "Royal Challengers Bengaluru     15\n",
      "Kochi Tuskers Kerala            14\n",
      "Rising Pune Supergiants         14\n",
      "Name: count, dtype: int64\n"
     ]
    }
   ],
   "source": [
    "# Matches per team\n",
    "team_matches = pd.concat([matches['team1'], matches['team2']]).value_counts()\n",
    "print('\\nMatches per Team:')\n",
    "print(team_matches)"
   ]
  },
  {
   "cell_type": "code",
   "execution_count": 74,
   "metadata": {},
   "outputs": [
    {
     "name": "stdout",
     "output_type": "stream",
     "text": [
      "\n",
      "Winning Percentage:\n",
      "Rising Pune Supergiant         62.500000\n",
      "Gujarat Titans                 62.222222\n",
      "Chennai Super Kings            57.983193\n",
      "Mumbai Indians                 55.172414\n",
      "Lucknow Super Giants           54.545455\n",
      "Kolkata Knight Riders          52.191235\n",
      "Rajasthan Royals               50.678733\n",
      "Royal Challengers Bangalore    48.333333\n",
      "Royal Challengers Bengaluru    46.666667\n",
      "Delhi Capitals                 45.634921\n",
      "Punjab Kings                   45.528455\n",
      "Sunrisers Hyderabad            45.525292\n",
      "Gujarat Lions                  43.333333\n",
      "Kochi Tuskers Kerala           42.857143\n",
      "Rising Pune Supergiants        35.714286\n",
      "Pune Warriors                  26.086957\n",
      "No Result                            NaN\n",
      "Name: count, dtype: float64\n",
      "\n",
      "Win Margins (Runs):\n",
      "    season                 winner  result_margin\n",
      "0     2008  Kolkata Knight Riders          140.0\n",
      "1     2008    Chennai Super Kings           33.0\n",
      "7     2008    Chennai Super Kings            6.0\n",
      "9     2008           Punjab Kings           66.0\n",
      "14    2008    Chennai Super Kings           13.0\n",
      "\n",
      "Win Margins (Wickets):\n",
      "   season                       winner  result_margin\n",
      "2    2008               Delhi Capitals            9.0\n",
      "3    2008  Royal Challengers Bangalore            5.0\n",
      "4    2008        Kolkata Knight Riders            5.0\n",
      "5    2008             Rajasthan Royals            6.0\n",
      "6    2008               Delhi Capitals            9.0\n"
     ]
    }
   ],
   "source": [
    "# Winning percentage\n",
    "team_wins = matches['winner'].value_counts()\n",
    "winning_percentage = (team_wins / team_matches * 100).sort_values(ascending=False)\n",
    "print('\\nWinning Percentage:')\n",
    "print(winning_percentage)\n",
    "\n",
    "# Win margins\n",
    "win_margins_runs = matches[matches['result'] == 'runs'][['season', 'winner', 'result_margin']]\n",
    "win_margins_wickets = matches[matches['result'] == 'wickets'][['season', 'winner', 'result_margin']]\n",
    "print('\\nWin Margins (Runs):')\n",
    "print(win_margins_runs.head())\n",
    "print('\\nWin Margins (Wickets):')\n",
    "print(win_margins_wickets.head())"
   ]
  },
  {
   "cell_type": "code",
   "execution_count": 75,
   "metadata": {},
   "outputs": [
    {
     "name": "stdout",
     "output_type": "stream",
     "text": [
      "\n",
      "Toss Decision Impact:\n",
      "winner         Chennai Super Kings  Delhi Capitals  Gujarat Lions  \\\n",
      "toss_decision                                                       \n",
      "bat                      16.112532       10.741688       0.511509   \n",
      "field                    10.653409       10.369318       1.562500   \n",
      "\n",
      "winner         Gujarat Titans  Kochi Tuskers Kerala  Kolkata Knight Riders  \\\n",
      "toss_decision                                                                \n",
      "bat                  2.301790              0.000000              12.787724   \n",
      "field                2.698864              0.852273              11.505682   \n",
      "\n",
      "winner         Lucknow Super Giants  Mumbai Indians  No Result  Pune Warriors  \\\n",
      "toss_decision                                                                   \n",
      "bat                        1.534527       13.810742   0.255754       2.301790   \n",
      "field                      2.556818       12.784091   0.568182       0.426136   \n",
      "\n",
      "winner         Punjab Kings  Rajasthan Royals  Rising Pune Supergiant  \\\n",
      "toss_decision                                                           \n",
      "bat                7.161125         10.997442                0.000000   \n",
      "field             11.931818          9.801136                1.420455   \n",
      "\n",
      "winner         Rising Pune Supergiants  Royal Challengers Bangalore  \\\n",
      "toss_decision                                                         \n",
      "bat                           0.511509                     9.462916   \n",
      "field                         0.426136                    11.221591   \n",
      "\n",
      "winner         Royal Challengers Bengaluru  Sunrisers Hyderabad  \n",
      "toss_decision                                                    \n",
      "bat                               0.255754            11.253197  \n",
      "field                             0.852273            10.369318  \n",
      "\n",
      "Home Wins: 555, Away Wins: 540\n"
     ]
    }
   ],
   "source": [
    "# Toss decision impact\n",
    "toss_impact = matches.groupby(['toss_decision', 'winner']).size().unstack().fillna(0)\n",
    "toss_impact_percentage = toss_impact.div(toss_impact.sum(axis=1), axis=0) * 100\n",
    "print('\\nToss Decision Impact:')\n",
    "print(toss_impact_percentage)\n",
    "\n",
    "# Home vs. Away wins\n",
    "matches['home_team'] = matches['team1']  # Simplified assumption: team1 is home\n",
    "home_wins = matches[matches['winner'] == matches['home_team']].shape[0]\n",
    "away_wins = matches[matches['winner'] != matches['home_team']].shape[0]\n",
    "print(f'\\nHome Wins: {home_wins}, Away Wins: {away_wins}')\n"
   ]
  },
  {
   "cell_type": "code",
   "execution_count": 76,
   "metadata": {},
   "outputs": [
    {
     "name": "stdout",
     "output_type": "stream",
     "text": [
      "\n",
      "Orange Cap Holders:\n",
      "      season         batter  batsman_runs\n",
      "115     2008       SE Marsh           616\n",
      "229     2009      ML Hayden           572\n",
      "446     2010   SR Tendulkar           618\n",
      "502     2011       CH Gayle           608\n",
      "684     2012       CH Gayle           733\n",
      "910     2013     MEK Hussey           733\n",
      "1088    2014     RV Uthappa           660\n",
      "1148    2015      DA Warner           562\n",
      "1383    2016        V Kohli           973\n",
      "1422    2017      DA Warner           641\n",
      "1594    2018  KS Williamson           735\n",
      "1694    2019      DA Warner           692\n",
      "1866    2020       KL Rahul           676\n",
      "2051    2021     RD Gaikwad           635\n",
      "2144    2022     JC Buttler           863\n",
      "2423    2023   Shubman Gill           890\n",
      "2606    2024        V Kohli           741\n"
     ]
    }
   ],
   "source": [
    "# Orange Cap (most runs per season)\n",
    "runs_per_season = deliveries.groupby(['season', 'batter'])['batsman_runs'].sum().reset_index()\n",
    "orange_cap = runs_per_season.loc[runs_per_season.groupby('season')['batsman_runs'].idxmax()]\n",
    "print('\\nOrange Cap Holders:')\n",
    "print(orange_cap)"
   ]
  },
  {
   "cell_type": "code",
   "execution_count": 77,
   "metadata": {},
   "outputs": [
    {
     "name": "stdout",
     "output_type": "stream",
     "text": [
      "\n",
      "Most Orange Caps Won:\n",
      "batter\n",
      "DA Warner    3\n",
      "CH Gayle     2\n",
      "V Kohli      2\n",
      "SE Marsh     1\n",
      "ML Hayden    1\n",
      "Name: count, dtype: int64\n"
     ]
    }
   ],
   "source": [
    "# Most Orange Caps\n",
    "most_orange_caps = orange_cap['batter'].value_counts().head(5)\n",
    "print('\\nMost Orange Caps Won:')\n",
    "print(most_orange_caps)"
   ]
  },
  {
   "cell_type": "code",
   "execution_count": 78,
   "metadata": {},
   "outputs": [
    {
     "name": "stdout",
     "output_type": "stream",
     "text": [
      "\n",
      "Purple Cap Holders:\n",
      "      season          bowler  player_dismissed\n",
      "75      2008   Sohail Tanvir                22\n",
      "152     2009        RP Singh                23\n",
      "241     2010         PP Ojha                21\n",
      "367     2011      SL Malinga                28\n",
      "437     2012        M Morkel                25\n",
      "509     2013        DJ Bravo                32\n",
      "638     2014       MM Sharma                23\n",
      "694     2015        DJ Bravo                26\n",
      "773     2016         B Kumar                23\n",
      "860     2017         B Kumar                26\n",
      "942     2018          AJ Tye                24\n",
      "1048    2019     Imran Tahir                26\n",
      "1141    2020        K Rabada                32\n",
      "1211    2021        HV Patel                32\n",
      "1378    2022       YS Chahal                27\n",
      "1447    2023  Mohammed Shami                28\n",
      "1515    2024        HV Patel                24\n",
      "\n",
      "Most Purple Caps Won:\n",
      "bowler\n",
      "DJ Bravo         2\n",
      "B Kumar          2\n",
      "HV Patel         2\n",
      "Sohail Tanvir    1\n",
      "RP Singh         1\n",
      "Name: count, dtype: int64\n"
     ]
    }
   ],
   "source": [
    "# Purple Cap (most wickets per season)\n",
    "wickets = deliveries[deliveries['dismissal_kind'].isin(['caught', 'bowled', 'lbw', 'stumped', 'caught and bowled', 'hit wicket'])]\n",
    "wickets_per_season = wickets.groupby(['season', 'bowler'])['player_dismissed'].count().reset_index()\n",
    "purple_cap = wickets_per_season.loc[wickets_per_season.groupby('season')['player_dismissed'].idxmax()]\n",
    "print('\\nPurple Cap Holders:')\n",
    "print(purple_cap)\n",
    "\n",
    "# Most Purple Caps\n",
    "most_purple_caps = purple_cap['bowler'].value_counts().head(5)\n",
    "print('\\nMost Purple Caps Won:')\n",
    "print(most_purple_caps)\n"
   ]
  },
  {
   "cell_type": "code",
   "execution_count": 80,
   "metadata": {},
   "outputs": [
    {
     "name": "stdout",
     "output_type": "stream",
     "text": [
      "\n",
      "Player Profiles (Batting):\n",
      "                batsman_runs  balls_faced  strike_rate\n",
      "batter                                                \n",
      "A Ashish Reddy           280          196       142.86\n",
      "A Badoni                 634          505       125.54\n",
      "A Chandila                 4            7        57.14\n",
      "A Chopra                  53           75        70.67\n",
      "A Choudhary               25           20       125.00\n"
     ]
    }
   ],
   "source": [
    "# Player profiles\n",
    "player_profiles = deliveries.groupby('batter').agg({\n",
    "    'batsman_runs': 'sum',\n",
    "    'ball': 'count'\n",
    "}).rename(columns={'ball': 'balls_faced'})\n",
    "player_profiles['strike_rate'] = (player_profiles['batsman_runs'] / player_profiles['balls_faced'] * 100).round(2)\n",
    "print('\\nPlayer Profiles (Batting):')\n",
    "print(player_profiles.head())"
   ]
  },
  {
   "cell_type": "code",
   "execution_count": 81,
   "metadata": {},
   "outputs": [
    {
     "name": "stdout",
     "output_type": "stream",
     "text": [
      "\n",
      "Most 50+ Scores:\n",
      "batter\n",
      "DA Warner         66\n",
      "V Kohli           64\n",
      "S Dhawan          53\n",
      "RG Sharma         45\n",
      "AB de Villiers    44\n",
      "KL Rahul          41\n",
      "SK Raina          40\n",
      "CH Gayle          38\n",
      "F du Plessis      37\n",
      "G Gambhir         36\n",
      "dtype: int64\n"
     ]
    }
   ],
   "source": [
    "# Consistency: 50+ scores\n",
    "batter_scores = deliveries.groupby(['match_id', 'batter'])['batsman_runs'].sum().reset_index()\n",
    "fifty_plus = batter_scores[batter_scores['batsman_runs'] >= 50].groupby('batter').size().sort_values(ascending=False).head(10)\n",
    "print('\\nMost 50+ Scores:')\n",
    "print(fifty_plus)"
   ]
  },
  {
   "cell_type": "code",
   "execution_count": 82,
   "metadata": {},
   "outputs": [
    {
     "name": "stdout",
     "output_type": "stream",
     "text": [
      "\n",
      "Most 3+ Wicket Hauls:\n",
      "bowler\n",
      "JJ Bumrah      24\n",
      "YS Chahal      20\n",
      "SL Malinga     19\n",
      "A Mishra       17\n",
      "RA Jadeja      17\n",
      "MM Sharma      16\n",
      "UT Yadav       16\n",
      "DJ Bravo       16\n",
      "Rashid Khan    16\n",
      "HV Patel       15\n",
      "dtype: int64\n"
     ]
    }
   ],
   "source": [
    "# Consistency: 3+ wickets\n",
    "bowler_wickets = wickets.groupby(['match_id', 'bowler'])['player_dismissed'].count().reset_index()\n",
    "three_plus_wickets = bowler_wickets[bowler_wickets['player_dismissed'] >= 3].groupby('bowler').size().sort_values(ascending=False).head(10)\n",
    "print('\\nMost 3+ Wicket Hauls:')\n",
    "print(three_plus_wickets)"
   ]
  },
  {
   "cell_type": "code",
   "execution_count": 88,
   "metadata": {},
   "outputs": [
    {
     "name": "stdout",
     "output_type": "stream",
     "text": [
      "\n",
      "Most Sixes (Overall):\n",
      "batter\n",
      "CH Gayle          359\n",
      "RG Sharma         281\n",
      "V Kohli           273\n",
      "AB de Villiers    253\n",
      "MS Dhoni          252\n",
      "DA Warner         236\n",
      "KA Pollard        224\n",
      "AD Russell        209\n",
      "SV Samson         206\n",
      "SK Raina          204\n",
      "Name: batsman_runs, dtype: int64\n",
      "\n",
      "Most Sixes (Per Season):\n",
      "      season           batter  batsman_runs\n",
      "80      2008    ST Jayasuriya            31\n",
      "102     2009     AC Gilchrist            29\n",
      "245     2010       RV Uthappa            27\n",
      "286     2011         CH Gayle            44\n",
      "388     2012         CH Gayle            59\n",
      "486     2013         CH Gayle            52\n",
      "591     2014       GJ Maxwell            36\n",
      "661     2015         CH Gayle            38\n",
      "829     2016          V Kohli            38\n",
      "856     2017        DA Warner            26\n",
      "996     2018          RR Pant            37\n",
      "1021    2019       AD Russell            52\n",
      "1131    2020     Ishan Kishan            30\n",
      "1227    2021         KL Rahul            30\n",
      "1313    2022       JC Buttler            45\n",
      "1425    2023     F du Plessis            36\n",
      "1517    2024  Abhishek Sharma            42\n",
      "\n",
      "Most Fours (Overall):\n",
      "batter\n",
      "S Dhawan        768\n",
      "V Kohli         708\n",
      "DA Warner       663\n",
      "RG Sharma       599\n",
      "SK Raina        506\n",
      "G Gambhir       492\n",
      "RV Uthappa      481\n",
      "AM Rahane       479\n",
      "KD Karthik      466\n",
      "F du Plessis    422\n",
      "Name: batsman_runs, dtype: int64\n",
      "\n",
      "Most Fours (Per Season):\n",
      "      season        batter  batsman_runs\n",
      "28      2008     G Gambhir            68\n",
      "176     2009     ML Hayden            60\n",
      "334     2010  SR Tendulkar            86\n",
      "464     2011  SR Tendulkar            67\n",
      "500     2012     AM Rahane            73\n",
      "683     2013    MEK Hussey            81\n",
      "814     2014    RV Uthappa            74\n",
      "856     2015     DA Warner            65\n",
      "956     2016     DA Warner            88\n",
      "1070    2017     DA Warner            63\n",
      "1225    2018       RR Pant            68\n",
      "1331    2019      S Dhawan            64\n",
      "1430    2020      S Dhawan            67\n",
      "1534    2021    RD Gaikwad            64\n",
      "1605    2022    JC Buttler            84\n",
      "1819    2023  Shubman Gill            85\n",
      "1958    2024       TM Head            64\n"
     ]
    }
   ],
   "source": [
    "# Most sixes (overall and year-wise)\n",
    "sixes = deliveries[deliveries['batsman_runs'] == 6]\n",
    "most_sixes = sixes.groupby('batter')['batsman_runs'].count().sort_values(ascending=False).head(10)\n",
    "print('\\nMost Sixes (Overall):')\n",
    "print(most_sixes)\n",
    "sixes_per_season = sixes.groupby(['season', 'batter'])['batsman_runs'].count().reset_index()\n",
    "most_sixes_per_season = sixes_per_season.loc[sixes_per_season.groupby('season')['batsman_runs'].idxmax()]\n",
    "print('\\nMost Sixes (Per Season):')\n",
    "print(most_sixes_per_season)\n",
    "\n",
    "# Most fours (overall and year-wise)\n",
    "fours = deliveries[deliveries['batsman_runs'] == 4]\n",
    "most_fours = fours.groupby('batter')['batsman_runs'].count().sort_values(ascending=False).head(10)\n",
    "print('\\nMost Fours (Overall):')\n",
    "print(most_fours)\n",
    "fours_per_season = fours.groupby(['season', 'batter'])['batsman_runs'].count().reset_index()\n",
    "most_fours_per_season = fours_per_season.loc[fours_per_season.groupby('season')['batsman_runs'].idxmax()]\n",
    "print('\\nMost Fours (Per Season):')\n",
    "print(most_fours_per_season)"
   ]
  },
  {
   "cell_type": "code",
   "execution_count": 89,
   "metadata": {},
   "outputs": [
    {
     "name": "stdout",
     "output_type": "stream",
     "text": [
      "\n",
      "Most Stumps:\n",
      "fielder\n",
      "MS Dhoni        42\n",
      "KD Karthik      37\n",
      "RV Uthappa      32\n",
      "WP Saha         26\n",
      "RR Pant         23\n",
      "PA Patel        16\n",
      "Q de Kock       16\n",
      "AC Gilchrist    16\n",
      "SV Samson       16\n",
      "NV Ojha         10\n",
      "Name: player_dismissed, dtype: int64\n"
     ]
    }
   ],
   "source": [
    "# Most stumps\n",
    "stumps = deliveries[deliveries['dismissal_kind'] == 'stumped']\n",
    "most_stumps = stumps.groupby('fielder')['player_dismissed'].count().sort_values(ascending=False).head(10)\n",
    "print('\\nMost Stumps:')\n",
    "print(most_stumps)\n"
   ]
  },
  {
   "cell_type": "code",
   "execution_count": 50,
   "metadata": {},
   "outputs": [
    {
     "name": "stdout",
     "output_type": "stream",
     "text": [
      "\n",
      "Most Catches:\n",
      "fielder\n",
      "MS Dhoni          152\n",
      "KD Karthik        145\n",
      "AB de Villiers    120\n",
      "V Kohli           114\n",
      "SK Raina          106\n",
      "RG Sharma         100\n",
      "S Dhawan          100\n",
      "RA Jadeja          97\n",
      "KA Pollard         97\n",
      "WP Saha            93\n",
      "Name: player_dismissed, dtype: int64\n"
     ]
    }
   ],
   "source": [
    "# Most catches\n",
    "catches = deliveries[deliveries['dismissal_kind'] == 'caught']\n",
    "most_catches = catches.groupby('fielder')['player_dismissed'].count().sort_values(ascending=False).head(10)\n",
    "print('\\nMost Catches:')\n",
    "print(most_catches)"
   ]
  },
  {
   "cell_type": "code",
   "execution_count": 51,
   "metadata": {},
   "outputs": [
    {
     "name": "stdout",
     "output_type": "stream",
     "text": [
      "\n",
      "Most Run-Outs:\n",
      "fielder\n",
      "MS Dhoni          26\n",
      "RA Jadeja         19\n",
      "KD Karthik        17\n",
      "V Kohli           17\n",
      "SV Samson         17\n",
      "MK Pandey         13\n",
      "AB de Villiers    13\n",
      "SK Raina          13\n",
      "DJ Bravo          12\n",
      "WP Saha           12\n",
      "Name: player_dismissed, dtype: int64\n"
     ]
    }
   ],
   "source": [
    "# Most run-outs\n",
    "run_outs = deliveries[deliveries['dismissal_kind'] == 'run out']\n",
    "most_run_outs = run_outs.groupby('fielder')['player_dismissed'].count().sort_values(ascending=False).head(10)\n",
    "print('\\nMost Run-Outs:')\n",
    "print(most_run_outs)"
   ]
  },
  {
   "cell_type": "code",
   "execution_count": 52,
   "metadata": {},
   "outputs": [
    {
     "name": "stdout",
     "output_type": "stream",
     "text": [
      "\n",
      "Most Toss Wins:\n",
      "toss_winner\n",
      "Mumbai Indians                 143\n",
      "Sunrisers Hyderabad            131\n",
      "Delhi Capitals                 130\n",
      "Chennai Super Kings            122\n",
      "Kolkata Knight Riders          122\n",
      "Rajasthan Royals               120\n",
      "Royal Challengers Bangalore    113\n",
      "Punjab Kings                   109\n",
      "Gujarat Titans                  22\n",
      "Pune Warriors                   20\n",
      "Lucknow Super Giants            19\n",
      "Gujarat Lions                   15\n",
      "Kochi Tuskers Kerala             8\n",
      "Royal Challengers Bengaluru      8\n",
      "Rising Pune Supergiants          7\n",
      "Rising Pune Supergiant           6\n",
      "Name: count, dtype: int64\n"
     ]
    }
   ],
   "source": [
    "# Most toss wins\n",
    "toss_wins = matches['toss_winner'].value_counts()\n",
    "print('\\nMost Toss Wins:')\n",
    "print(toss_wins)\n"
   ]
  },
  {
   "cell_type": "code",
   "execution_count": 53,
   "metadata": {},
   "outputs": [
    {
     "name": "stdout",
     "output_type": "stream",
     "text": [
      "\n",
      "Stadiums with Most Matches:\n",
      "venue\n",
      "Eden Gardens                                  77\n",
      "Wankhede Stadium                              73\n",
      "M Chinnaswamy Stadium                         65\n",
      "Feroz Shah Kotla                              60\n",
      "Rajiv Gandhi International Stadium, Uppal     49\n",
      "MA Chidambaram Stadium, Chepauk               48\n",
      "Sawai Mansingh Stadium                        47\n",
      "Dubai International Cricket Stadium           46\n",
      "Wankhede Stadium, Mumbai                      45\n",
      "Punjab Cricket Association Stadium, Mohali    35\n",
      "Name: count, dtype: int64\n"
     ]
    }
   ],
   "source": [
    "# Stadium analysis\n",
    "stadium_matches = matches['venue'].value_counts()\n",
    "print('\\nStadiums with Most Matches:')\n",
    "print(stadium_matches.head(10))"
   ]
  },
  {
   "cell_type": "code",
   "execution_count": 94,
   "metadata": {},
   "outputs": [
    {
     "name": "stdout",
     "output_type": "stream",
     "text": [
      "\n",
      "Top Batter vs. Bowler Matchups:\n",
      "          batter     bowler  batsman_runs\n",
      "5481   DA Warner  SP Narine           195\n",
      "26199    V Kohli   R Ashwin           179\n",
      "22509   SK Raina  PP Chawla           175\n",
      "19809  RG Sharma   UT Yadav           170\n",
      "26260    V Kohli   UT Yadav           168\n",
      "26003    V Kohli   A Mishra           162\n",
      "11627   KL Rahul  DL Chahar           158\n",
      "26062    V Kohli   DJ Bravo           157\n",
      "26208    V Kohli  RA Jadeja           157\n",
      "5515   DA Warner  YS Chahal           156\n"
     ]
    }
   ],
   "source": [
    "# Batter vs. Bowler Analysis\n",
    "batter_vs_bowler = deliveries.groupby(['batter', 'bowler'])['batsman_runs'].sum().reset_index()\n",
    "top_matchups = batter_vs_bowler.sort_values('batsman_runs', ascending=False).head(10)\n",
    "print('\\nTop Batter vs. Bowler Matchups:')\n",
    "print(top_matchups)"
   ]
  },
  {
   "cell_type": "code",
   "execution_count": 95,
   "metadata": {},
   "outputs": [
    {
     "name": "stdout",
     "output_type": "stream",
     "text": [
      "\n",
      "Top Run-Scorers by Venue:\n",
      "                                                  venue            batter  \\\n",
      "89                                 Arun Jaitley Stadium           SS Iyer   \n",
      "124                         Arun Jaitley Stadium, Delhi         DA Warner   \n",
      "276                                    Barabati Stadium        RV Uthappa   \n",
      "303                 Barsapara Cricket Stadium, Guwahati        JC Buttler   \n",
      "372   Bharat Ratna Shri Atal Bihari Vajpayee Ekana C...          KL Rahul   \n",
      "521                                   Brabourne Stadium         SS Tiwary   \n",
      "556                           Brabourne Stadium, Mumbai         DA Warner   \n",
      "670                                        Buffalo Park          BJ Hodge   \n",
      "706                               De Beers Diamond Oval         A Symonds   \n",
      "829                          Dr DY Patil Sports Academy        RV Uthappa   \n",
      "906                  Dr DY Patil Sports Academy, Mumbai        JC Buttler   \n",
      "1084  Dr. Y.S. Rajasekhara Reddy ACA-VDCA Cricket St...          S Dhawan   \n",
      "1123  Dr. Y.S. Rajasekhara Reddy ACA-VDCA Cricket St...           RR Pant   \n",
      "1210                Dubai International Cricket Stadium          KL Rahul   \n",
      "1383                                       Eden Gardens         G Gambhir   \n",
      "1657                              Eden Gardens, Kolkata          RK Singh   \n",
      "1925                                   Feroz Shah Kotla          V Sehwag   \n",
      "1976                                         Green Park          SK Raina   \n",
      "2046       Himachal Pradesh Cricket Association Stadium          SE Marsh   \n",
      "2091  Himachal Pradesh Cricket Association Stadium, ...        RR Rossouw   \n",
      "2141                             Holkar Cricket Stadium          KL Rahul   \n",
      "2212                 JSCA International Stadium Complex          MS Dhoni   \n",
      "2357                                          Kingsmead      Yuvraj Singh   \n",
      "2599                              M Chinnaswamy Stadium           V Kohli   \n",
      "2720                   M Chinnaswamy Stadium, Bengaluru           V Kohli   \n",
      "2730                              M.Chinnaswamy Stadium    AB de Villiers   \n",
      "2874                             MA Chidambaram Stadium          MS Dhoni   \n",
      "3093                    MA Chidambaram Stadium, Chepauk          SK Raina   \n",
      "3241           MA Chidambaram Stadium, Chepauk, Chennai        RD Gaikwad   \n",
      "3291  Maharaja Yadavindra Singh International Cricke...   Ashutosh Sharma   \n",
      "3461            Maharashtra Cricket Association Stadium         SPD Smith   \n",
      "3564      Maharashtra Cricket Association Stadium, Pune        RD Gaikwad   \n",
      "3725                   Narendra Modi Stadium, Ahmedabad      Shubman Gill   \n",
      "3755                                      Nehru Stadium  DPMD Jayawardene   \n",
      "3819                              New Wanderers Stadium         JH Kallis   \n",
      "3916                                           Newlands          R Dravid   \n",
      "3946                                    OUTsurance Oval    AB de Villiers   \n",
      "4004       Punjab Cricket Association IS Bindra Stadium          KL Rahul   \n",
      "4088  Punjab Cricket Association IS Bindra Stadium, ...           M Vijay   \n",
      "4143  Punjab Cricket Association IS Bindra Stadium, ...         JM Sharma   \n",
      "4332         Punjab Cricket Association Stadium, Mohali          SE Marsh   \n",
      "4390                 Rajiv Gandhi International Stadium         DA Warner   \n",
      "4522          Rajiv Gandhi International Stadium, Uppal         DA Warner   \n",
      "4721  Rajiv Gandhi International Stadium, Uppal, Hyd...         H Klaasen   \n",
      "4809                       Sardar Patel Stadium, Motera         AM Rahane   \n",
      "4965             Saurashtra Cricket Association Stadium          SK Raina   \n",
      "5000                             Sawai Mansingh Stadium         AM Rahane   \n",
      "5275                     Sawai Mansingh Stadium, Jaipur         SV Samson   \n",
      "5297   Shaheed Veer Narayan Singh International Stadium         DA Warner   \n",
      "5491                            Sharjah Cricket Stadium           V Kohli   \n",
      "5622                               Sheikh Zayed Stadium          SA Yadav   \n",
      "5682                                   St George's Park         JP Duminy   \n",
      "5811                         Subrata Roy Sahara Stadium        RV Uthappa   \n",
      "5905                                    SuperSport Park          SK Raina   \n",
      "5953       Vidarbha Cricket Association Stadium, Jamtha         RG Sharma   \n",
      "6167                                   Wankhede Stadium         RG Sharma   \n",
      "6397                           Wankhede Stadium, Mumbai          SA Yadav   \n",
      "6497                   Zayed Cricket Stadium, Abu Dhabi        RD Gaikwad   \n",
      "\n",
      "      batsman_runs  \n",
      "89             496  \n",
      "124            365  \n",
      "276            152  \n",
      "303             98  \n",
      "372            483  \n",
      "521            249  \n",
      "556            213  \n",
      "670             73  \n",
      "706             90  \n",
      "829            226  \n",
      "906            228  \n",
      "1084           294  \n",
      "1123           106  \n",
      "1210           612  \n",
      "1383          1407  \n",
      "1657           383  \n",
      "1925           933  \n",
      "1976           119  \n",
      "2046           334  \n",
      "2091           143  \n",
      "2141           195  \n",
      "2212           138  \n",
      "2357           182  \n",
      "2599          1874  \n",
      "2720           694  \n",
      "2730           572  \n",
      "2874           218  \n",
      "3093          1302  \n",
      "3241           706  \n",
      "3291           128  \n",
      "3461           469  \n",
      "3564           200  \n",
      "3725           953  \n",
      "3755           111  \n",
      "3819           151  \n",
      "3916           114  \n",
      "3946            90  \n",
      "4004           406  \n",
      "4088           260  \n",
      "4143           160  \n",
      "4332           806  \n",
      "4390           433  \n",
      "4522          1169  \n",
      "4721           435  \n",
      "4809           308  \n",
      "4965           328  \n",
      "5000          1100  \n",
      "5275           391  \n",
      "5297           207  \n",
      "5491           285  \n",
      "5622           413  \n",
      "5682           139  \n",
      "5811           418  \n",
      "5905           182  \n",
      "5953           132  \n",
      "6167          1733  \n",
      "6397           584  \n",
      "6497           141  \n",
      "\n",
      "Top Wicket-Takers by Venue:\n",
      "                                                  venue          bowler  \\\n",
      "0                                  Arun Jaitley Stadium        A Mishra   \n",
      "88                          Arun Jaitley Stadium, Delhi    Mukesh Kumar   \n",
      "119                                    Barabati Stadium       A Symonds   \n",
      "174                 Barsapara Cricket Stadium, Guwahati       YS Chahal   \n",
      "223   Bharat Ratna Shri Atal Bihari Vajpayee Ekana C...    Ravi Bishnoi   \n",
      "277                                   Brabourne Stadium          Z Khan   \n",
      "305                           Brabourne Stadium, Mumbai        KK Ahmed   \n",
      "369                                        Buffalo Park       SB Jakati   \n",
      "383                               De Beers Diamond Oval       RG Sharma   \n",
      "406                          Dr DY Patil Sports Academy    DE Bollinger   \n",
      "487                  Dr DY Patil Sports Academy, Mumbai       JJ Bumrah   \n",
      "542   Dr. Y.S. Rajasekhara Reddy ACA-VDCA Cricket St...         A Zampa   \n",
      "596   Dr. Y.S. Rajasekhara Reddy ACA-VDCA Cricket St...        A Nortje   \n",
      "710                 Dubai International Cricket Stadium       YS Chahal   \n",
      "872                                        Eden Gardens       SP Narine   \n",
      "905                               Eden Gardens, Kolkata        CV Varun   \n",
      "958                                    Feroz Shah Kotla        A Mishra   \n",
      "1116                                         Green Park        DR Smith   \n",
      "1154       Himachal Pradesh Cricket Association Stadium       PP Chawla   \n",
      "1173  Himachal Pradesh Cricket Association Stadium, ...        HV Patel   \n",
      "1194                             Holkar Cricket Stadium          AJ Tye   \n",
      "1263                 JSCA International Stadium Complex       RA Jadeja   \n",
      "1289                                          Kingsmead       IK Pathan   \n",
      "1480                              M Chinnaswamy Stadium       YS Chahal   \n",
      "1518                   M Chinnaswamy Stadium, Bengaluru  Mohammed Siraj   \n",
      "1599                              M.Chinnaswamy Stadium       YS Chahal   \n",
      "1611                             MA Chidambaram Stadium     Imran Tahir   \n",
      "1717                    MA Chidambaram Stadium, Chepauk        R Ashwin   \n",
      "1839           MA Chidambaram Stadium, Chepauk, Chennai    TU Deshpande   \n",
      "1852  Maharaja Yadavindra Singh International Cricke...        HV Patel   \n",
      "1902            Maharashtra Cricket Association Stadium     Imran Tahir   \n",
      "1963      Maharashtra Cricket Association Stadium, Pune        HV Patel   \n",
      "2054                   Narendra Modi Stadium, Ahmedabad       MM Sharma   \n",
      "2102                                      Nehru Stadium   R Vinay Kumar   \n",
      "2113                              New Wanderers Stadium        A Kumble   \n",
      "2165                                           Newlands     Kamran Khan   \n",
      "2187                                    OUTsurance Oval     MF Maharoof   \n",
      "2213       Punjab Cricket Association IS Bindra Stadium  Mohammed Shami   \n",
      "2263  Punjab Cricket Association IS Bindra Stadium, ...  Sandeep Sharma   \n",
      "2273  Punjab Cricket Association IS Bindra Stadium, ...  Arshdeep Singh   \n",
      "2372         Punjab Cricket Association Stadium, Mohali       PP Chawla   \n",
      "2454                 Rajiv Gandhi International Stadium     Rashid Khan   \n",
      "2484          Rajiv Gandhi International Stadium, Uppal         B Kumar   \n",
      "2648  Rajiv Gandhi International Stadium, Uppal, Hyd...     T Natarajan   \n",
      "2692                       Sardar Patel Stadium, Motera        PV Tambe   \n",
      "2718             Saurashtra Cricket Association Stadium          AJ Tye   \n",
      "2870                             Sawai Mansingh Stadium      SK Trivedi   \n",
      "2932                     Sawai Mansingh Stadium, Jaipur       YS Chahal   \n",
      "2961   Shaheed Veer Narayan Singh International Stadium        UT Yadav   \n",
      "3020                            Sharjah Cricket Stadium  Mohammed Shami   \n",
      "3087                               Sheikh Zayed Stadium       JJ Bumrah   \n",
      "3183                                   St George's Park      SL Malinga   \n",
      "3235                         Subrata Roy Sahara Stadium        R Sharma   \n",
      "3255                                    SuperSport Park        A Mishra   \n",
      "3313       Vidarbha Cricket Association Stadium, Jamtha       RJ Harris   \n",
      "3458                                   Wankhede Stadium      SL Malinga   \n",
      "3518                           Wankhede Stadium, Mumbai       JJ Bumrah   \n",
      "3610                   Zayed Cricket Stadium, Abu Dhabi       JJ Bumrah   \n",
      "\n",
      "      player_dismissed  \n",
      "0                   18  \n",
      "88                  13  \n",
      "119                  4  \n",
      "174                  6  \n",
      "223                 15  \n",
      "277                  8  \n",
      "305                 10  \n",
      "369                  4  \n",
      "383                  5  \n",
      "406                  8  \n",
      "487                  8  \n",
      "542                 10  \n",
      "596                  3  \n",
      "710                 19  \n",
      "872                 56  \n",
      "905                 20  \n",
      "958                 40  \n",
      "1116                 6  \n",
      "1154                13  \n",
      "1173                 6  \n",
      "1194                 7  \n",
      "1263                 8  \n",
      "1289                10  \n",
      "1480                34  \n",
      "1518                18  \n",
      "1599                17  \n",
      "1611                14  \n",
      "1717                43  \n",
      "1839                21  \n",
      "1852                11  \n",
      "1902                15  \n",
      "1963                 6  \n",
      "2054                29  \n",
      "2102                 7  \n",
      "2113                 6  \n",
      "2165                 6  \n",
      "2187                 4  \n",
      "2213                11  \n",
      "2263                14  \n",
      "2273                 7  \n",
      "2372                23  \n",
      "2454                18  \n",
      "2484                28  \n",
      "2648                14  \n",
      "2692                 8  \n",
      "2718                 7  \n",
      "2870                36  \n",
      "2932                13  \n",
      "2961                 4  \n",
      "3020                14  \n",
      "3087                13  \n",
      "3183                 5  \n",
      "3235                11  \n",
      "3255                 7  \n",
      "3313                 7  \n",
      "3458                68  \n",
      "3518                17  \n",
      "3610                 7  \n"
     ]
    }
   ],
   "source": [
    "# Venue-Specific Player Performance\n",
    "venue_runs = deliveries.groupby(['venue', 'batter'])['batsman_runs'].sum().reset_index()\n",
    "top_venue_runs = venue_runs.loc[venue_runs.groupby('venue')['batsman_runs'].idxmax()]\n",
    "print('\\nTop Run-Scorers by Venue:')\n",
    "print(top_venue_runs)\n",
    "\n",
    "venue_wickets = wickets.groupby(['venue', 'bowler'])['player_dismissed'].count().reset_index()\n",
    "top_venue_wickets = venue_wickets.loc[venue_wickets.groupby('venue')['player_dismissed'].idxmax()]\n",
    "print('\\nTop Wicket-Takers by Venue:')\n",
    "print(top_venue_wickets)"
   ]
  },
  {
   "cell_type": "code",
   "execution_count": 54,
   "metadata": {},
   "outputs": [
    {
     "name": "stdout",
     "output_type": "stream",
     "text": [
      "\n",
      "Venue Win Percentage:\n",
      "winner                                              Chennai Super Kings  \\\n",
      "venue                                                                     \n",
      "Arun Jaitley Stadium                                           7.142857   \n",
      "Arun Jaitley Stadium, Delhi                                   12.500000   \n",
      "Barabati Stadium                                               0.000000   \n",
      "Barsapara Cricket Stadium, Guwahati                            0.000000   \n",
      "Bharat Ratna Shri Atal Bihari Vajpayee Ekana Cr...             0.000000   \n",
      "Brabourne Stadium                                             10.000000   \n",
      "Brabourne Stadium, Mumbai                                      0.000000   \n",
      "Buffalo Park                                                  33.333333   \n",
      "De Beers Diamond Oval                                         33.333333   \n",
      "Dr DY Patil Sports Academy                                    17.647059   \n",
      "Dr DY Patil Sports Academy, Mumbai                            15.000000   \n",
      "Dr. Y.S. Rajasekhara Reddy ACA-VDCA Cricket Sta...            15.384615   \n",
      "Dr. Y.S. Rajasekhara Reddy ACA-VDCA Cricket Sta...             0.000000   \n",
      "Dubai International Cricket Stadium                           19.565217   \n",
      "Eden Gardens                                                   6.493506   \n",
      "Eden Gardens, Kolkata                                          6.250000   \n",
      "Feroz Shah Kotla                                               8.333333   \n",
      "Green Park                                                     0.000000   \n",
      "Himachal Pradesh Cricket Association Stadium                  11.111111   \n",
      "Himachal Pradesh Cricket Association Stadium, D...            25.000000   \n",
      "Holkar Cricket Stadium                                         0.000000   \n",
      "JSCA International Stadium Complex                            42.857143   \n",
      "Kingsmead                                                      6.666667   \n",
      "M Chinnaswamy Stadium                                          6.153846   \n",
      "M Chinnaswamy Stadium, Bengaluru                               7.142857   \n",
      "M.Chinnaswamy Stadium                                          6.666667   \n",
      "MA Chidambaram Stadium                                        77.777778   \n",
      "MA Chidambaram Stadium, Chepauk                               68.750000   \n",
      "MA Chidambaram Stadium, Chepauk, Chennai                      35.714286   \n",
      "Maharaja Yadavindra Singh International Cricket...             0.000000   \n",
      "Maharashtra Cricket Association Stadium                       22.727273   \n",
      "Maharashtra Cricket Association Stadium, Pune                  7.692308   \n",
      "Narendra Modi Stadium, Ahmedabad                               4.166667   \n",
      "Nehru Stadium                                                  0.000000   \n",
      "New Wanderers Stadium                                         12.500000   \n",
      "Newlands                                                       0.000000   \n",
      "OUTsurance Oval                                                0.000000   \n",
      "Punjab Cricket Association IS Bindra Stadium                   0.000000   \n",
      "Punjab Cricket Association IS Bindra Stadium, M...             0.000000   \n",
      "Punjab Cricket Association IS Bindra Stadium, M...             0.000000   \n",
      "Punjab Cricket Association Stadium, Mohali                     8.571429   \n",
      "Rajiv Gandhi International Stadium                             6.666667   \n",
      "Rajiv Gandhi International Stadium, Uppal                      4.081633   \n",
      "Rajiv Gandhi International Stadium, Uppal, Hyde...             0.000000   \n",
      "Sardar Patel Stadium, Motera                                   0.000000   \n",
      "Saurashtra Cricket Association Stadium                         0.000000   \n",
      "Sawai Mansingh Stadium                                         6.382979   \n",
      "Sawai Mansingh Stadium, Jaipur                                 0.000000   \n",
      "Shaheed Veer Narayan Singh International Stadium               0.000000   \n",
      "Sharjah Cricket Stadium                                       10.714286   \n",
      "Sheikh Zayed Stadium                                          10.344828   \n",
      "St George's Park                                              28.571429   \n",
      "Subrata Roy Sahara Stadium                                     6.250000   \n",
      "SuperSport Park                                               16.666667   \n",
      "Vidarbha Cricket Association Stadium, Jamtha                   0.000000   \n",
      "Wankhede Stadium                                               9.589041   \n",
      "Wankhede Stadium, Mumbai                                      13.333333   \n",
      "Zayed Cricket Stadium, Abu Dhabi                              12.500000   \n",
      "\n",
      "winner                                              Delhi Capitals  \\\n",
      "venue                                                                \n",
      "Arun Jaitley Stadium                                     57.142857   \n",
      "Arun Jaitley Stadium, Delhi                              37.500000   \n",
      "Barabati Stadium                                          0.000000   \n",
      "Barsapara Cricket Stadium, Guwahati                       0.000000   \n",
      "Bharat Ratna Shri Atal Bihari Vajpayee Ekana Cr...        7.142857   \n",
      "Brabourne Stadium                                         0.000000   \n",
      "Brabourne Stadium, Mumbai                                23.529412   \n",
      "Buffalo Park                                             33.333333   \n",
      "De Beers Diamond Oval                                     0.000000   \n",
      "Dr DY Patil Sports Academy                                5.882353   \n",
      "Dr DY Patil Sports Academy, Mumbai                       10.000000   \n",
      "Dr. Y.S. Rajasekhara Reddy ACA-VDCA Cricket Sta...       15.384615   \n",
      "Dr. Y.S. Rajasekhara Reddy ACA-VDCA Cricket Sta...       50.000000   \n",
      "Dubai International Cricket Stadium                      15.217391   \n",
      "Eden Gardens                                              2.597403   \n",
      "Eden Gardens, Kolkata                                     0.000000   \n",
      "Feroz Shah Kotla                                         38.333333   \n",
      "Green Park                                               25.000000   \n",
      "Himachal Pradesh Cricket Association Stadium             11.111111   \n",
      "Himachal Pradesh Cricket Association Stadium, D...       25.000000   \n",
      "Holkar Cricket Stadium                                    0.000000   \n",
      "JSCA International Stadium Complex                        0.000000   \n",
      "Kingsmead                                                20.000000   \n",
      "M Chinnaswamy Stadium                                     4.615385   \n",
      "M Chinnaswamy Stadium, Bengaluru                          0.000000   \n",
      "M.Chinnaswamy Stadium                                     6.666667   \n",
      "MA Chidambaram Stadium                                    0.000000   \n",
      "MA Chidambaram Stadium, Chepauk                           4.166667   \n",
      "MA Chidambaram Stadium, Chepauk, Chennai                  7.142857   \n",
      "Maharaja Yadavindra Singh International Cricket...        0.000000   \n",
      "Maharashtra Cricket Association Stadium                   9.090909   \n",
      "Maharashtra Cricket Association Stadium, Pune             0.000000   \n",
      "Narendra Modi Stadium, Ahmedabad                         16.666667   \n",
      "Nehru Stadium                                            20.000000   \n",
      "New Wanderers Stadium                                    12.500000   \n",
      "Newlands                                                 14.285714   \n",
      "OUTsurance Oval                                          50.000000   \n",
      "Punjab Cricket Association IS Bindra Stadium              0.000000   \n",
      "Punjab Cricket Association IS Bindra Stadium, M...        0.000000   \n",
      "Punjab Cricket Association IS Bindra Stadium, M...        0.000000   \n",
      "Punjab Cricket Association Stadium, Mohali                2.857143   \n",
      "Rajiv Gandhi International Stadium                        6.666667   \n",
      "Rajiv Gandhi International Stadium, Uppal                 8.163265   \n",
      "Rajiv Gandhi International Stadium, Uppal, Hyde...        7.692308   \n",
      "Sardar Patel Stadium, Motera                              8.333333   \n",
      "Saurashtra Cricket Association Stadium                   10.000000   \n",
      "Sawai Mansingh Stadium                                    4.255319   \n",
      "Sawai Mansingh Stadium, Jaipur                            0.000000   \n",
      "Shaheed Veer Narayan Singh International Stadium         66.666667   \n",
      "Sharjah Cricket Stadium                                  17.857143   \n",
      "Sheikh Zayed Stadium                                      6.896552   \n",
      "St George's Park                                         14.285714   \n",
      "Subrata Roy Sahara Stadium                                6.250000   \n",
      "SuperSport Park                                          16.666667   \n",
      "Vidarbha Cricket Association Stadium, Jamtha              0.000000   \n",
      "Wankhede Stadium                                          4.109589   \n",
      "Wankhede Stadium, Mumbai                                  6.666667   \n",
      "Zayed Cricket Stadium, Abu Dhabi                         12.500000   \n",
      "\n",
      "winner                                              Gujarat Lions  \\\n",
      "venue                                                               \n",
      "Arun Jaitley Stadium                                     0.000000   \n",
      "Arun Jaitley Stadium, Delhi                              0.000000   \n",
      "Barabati Stadium                                         0.000000   \n",
      "Barsapara Cricket Stadium, Guwahati                      0.000000   \n",
      "Bharat Ratna Shri Atal Bihari Vajpayee Ekana Cr...       0.000000   \n",
      "Brabourne Stadium                                        0.000000   \n",
      "Brabourne Stadium, Mumbai                                0.000000   \n",
      "Buffalo Park                                             0.000000   \n",
      "De Beers Diamond Oval                                    0.000000   \n",
      "Dr DY Patil Sports Academy                               0.000000   \n",
      "Dr DY Patil Sports Academy, Mumbai                       0.000000   \n",
      "Dr. Y.S. Rajasekhara Reddy ACA-VDCA Cricket Sta...       0.000000   \n",
      "Dr. Y.S. Rajasekhara Reddy ACA-VDCA Cricket Sta...       0.000000   \n",
      "Dubai International Cricket Stadium                      0.000000   \n",
      "Eden Gardens                                             2.597403   \n",
      "Eden Gardens, Kolkata                                    0.000000   \n",
      "Feroz Shah Kotla                                         1.666667   \n",
      "Green Park                                              50.000000   \n",
      "Himachal Pradesh Cricket Association Stadium             0.000000   \n",
      "Himachal Pradesh Cricket Association Stadium, D...       0.000000   \n",
      "Holkar Cricket Stadium                                   0.000000   \n",
      "JSCA International Stadium Complex                       0.000000   \n",
      "Kingsmead                                                0.000000   \n",
      "M Chinnaswamy Stadium                                    1.538462   \n",
      "M Chinnaswamy Stadium, Bengaluru                         0.000000   \n",
      "M.Chinnaswamy Stadium                                    0.000000   \n",
      "MA Chidambaram Stadium                                   0.000000   \n",
      "MA Chidambaram Stadium, Chepauk                          0.000000   \n",
      "MA Chidambaram Stadium, Chepauk, Chennai                 0.000000   \n",
      "Maharaja Yadavindra Singh International Cricket...       0.000000   \n",
      "Maharashtra Cricket Association Stadium                  4.545455   \n",
      "Maharashtra Cricket Association Stadium, Pune            0.000000   \n",
      "Narendra Modi Stadium, Ahmedabad                         0.000000   \n",
      "Nehru Stadium                                            0.000000   \n",
      "New Wanderers Stadium                                    0.000000   \n",
      "Newlands                                                 0.000000   \n",
      "OUTsurance Oval                                          0.000000   \n",
      "Punjab Cricket Association IS Bindra Stadium             0.000000   \n",
      "Punjab Cricket Association IS Bindra Stadium, M...      18.181818   \n",
      "Punjab Cricket Association IS Bindra Stadium, M...       0.000000   \n",
      "Punjab Cricket Association Stadium, Mohali               0.000000   \n",
      "Rajiv Gandhi International Stadium                       0.000000   \n",
      "Rajiv Gandhi International Stadium, Uppal                0.000000   \n",
      "Rajiv Gandhi International Stadium, Uppal, Hyde...       0.000000   \n",
      "Sardar Patel Stadium, Motera                             0.000000   \n",
      "Saurashtra Cricket Association Stadium                  30.000000   \n",
      "Sawai Mansingh Stadium                                   0.000000   \n",
      "Sawai Mansingh Stadium, Jaipur                           0.000000   \n",
      "Shaheed Veer Narayan Singh International Stadium         0.000000   \n",
      "Sharjah Cricket Stadium                                  0.000000   \n",
      "Sheikh Zayed Stadium                                     0.000000   \n",
      "St George's Park                                         0.000000   \n",
      "Subrata Roy Sahara Stadium                               0.000000   \n",
      "SuperSport Park                                          0.000000   \n",
      "Vidarbha Cricket Association Stadium, Jamtha             0.000000   \n",
      "Wankhede Stadium                                         1.369863   \n",
      "Wankhede Stadium, Mumbai                                 0.000000   \n",
      "Zayed Cricket Stadium, Abu Dhabi                         0.000000   \n",
      "\n",
      "winner                                              Gujarat Titans  \\\n",
      "venue                                                                \n",
      "Arun Jaitley Stadium                                      0.000000   \n",
      "Arun Jaitley Stadium, Delhi                               6.250000   \n",
      "Barabati Stadium                                          0.000000   \n",
      "Barsapara Cricket Stadium, Guwahati                       0.000000   \n",
      "Bharat Ratna Shri Atal Bihari Vajpayee Ekana Cr...        7.142857   \n",
      "Brabourne Stadium                                         0.000000   \n",
      "Brabourne Stadium, Mumbai                                11.764706   \n",
      "Buffalo Park                                              0.000000   \n",
      "De Beers Diamond Oval                                     0.000000   \n",
      "Dr DY Patil Sports Academy                                0.000000   \n",
      "Dr DY Patil Sports Academy, Mumbai                       10.000000   \n",
      "Dr. Y.S. Rajasekhara Reddy ACA-VDCA Cricket Sta...        0.000000   \n",
      "Dr. Y.S. Rajasekhara Reddy ACA-VDCA Cricket Sta...        0.000000   \n",
      "Dubai International Cricket Stadium                       0.000000   \n",
      "Eden Gardens                                              0.000000   \n",
      "Eden Gardens, Kolkata                                    12.500000   \n",
      "Feroz Shah Kotla                                          0.000000   \n",
      "Green Park                                                0.000000   \n",
      "Himachal Pradesh Cricket Association Stadium              0.000000   \n",
      "Himachal Pradesh Cricket Association Stadium, D...        0.000000   \n",
      "Holkar Cricket Stadium                                    0.000000   \n",
      "JSCA International Stadium Complex                        0.000000   \n",
      "Kingsmead                                                 0.000000   \n",
      "M Chinnaswamy Stadium                                     0.000000   \n",
      "M Chinnaswamy Stadium, Bengaluru                          7.142857   \n",
      "M.Chinnaswamy Stadium                                     0.000000   \n",
      "MA Chidambaram Stadium                                    0.000000   \n",
      "MA Chidambaram Stadium, Chepauk                           0.000000   \n",
      "MA Chidambaram Stadium, Chepauk, Chennai                  0.000000   \n",
      "Maharaja Yadavindra Singh International Cricket...       20.000000   \n",
      "Maharashtra Cricket Association Stadium                   0.000000   \n",
      "Maharashtra Cricket Association Stadium, Pune            23.076923   \n",
      "Narendra Modi Stadium, Ahmedabad                         37.500000   \n",
      "Nehru Stadium                                             0.000000   \n",
      "New Wanderers Stadium                                     0.000000   \n",
      "Newlands                                                  0.000000   \n",
      "OUTsurance Oval                                           0.000000   \n",
      "Punjab Cricket Association IS Bindra Stadium              0.000000   \n",
      "Punjab Cricket Association IS Bindra Stadium, M...        0.000000   \n",
      "Punjab Cricket Association IS Bindra Stadium, M...       20.000000   \n",
      "Punjab Cricket Association Stadium, Mohali                0.000000   \n",
      "Rajiv Gandhi International Stadium                        0.000000   \n",
      "Rajiv Gandhi International Stadium, Uppal                 0.000000   \n",
      "Rajiv Gandhi International Stadium, Uppal, Hyde...        0.000000   \n",
      "Sardar Patel Stadium, Motera                              0.000000   \n",
      "Saurashtra Cricket Association Stadium                    0.000000   \n",
      "Sawai Mansingh Stadium                                    0.000000   \n",
      "Sawai Mansingh Stadium, Jaipur                           20.000000   \n",
      "Shaheed Veer Narayan Singh International Stadium          0.000000   \n",
      "Sharjah Cricket Stadium                                   0.000000   \n",
      "Sheikh Zayed Stadium                                      0.000000   \n",
      "St George's Park                                          0.000000   \n",
      "Subrata Roy Sahara Stadium                                0.000000   \n",
      "SuperSport Park                                           0.000000   \n",
      "Vidarbha Cricket Association Stadium, Jamtha              0.000000   \n",
      "Wankhede Stadium                                          0.000000   \n",
      "Wankhede Stadium, Mumbai                                  6.666667   \n",
      "Zayed Cricket Stadium, Abu Dhabi                          0.000000   \n",
      "\n",
      "winner                                              Kochi Tuskers Kerala  \\\n",
      "venue                                                                      \n",
      "Arun Jaitley Stadium                                            0.000000   \n",
      "Arun Jaitley Stadium, Delhi                                     0.000000   \n",
      "Barabati Stadium                                                0.000000   \n",
      "Barsapara Cricket Stadium, Guwahati                             0.000000   \n",
      "Bharat Ratna Shri Atal Bihari Vajpayee Ekana Cr...              0.000000   \n",
      "Brabourne Stadium                                               0.000000   \n",
      "Brabourne Stadium, Mumbai                                       0.000000   \n",
      "Buffalo Park                                                    0.000000   \n",
      "De Beers Diamond Oval                                           0.000000   \n",
      "Dr DY Patil Sports Academy                                      0.000000   \n",
      "Dr DY Patil Sports Academy, Mumbai                              0.000000   \n",
      "Dr. Y.S. Rajasekhara Reddy ACA-VDCA Cricket Sta...              0.000000   \n",
      "Dr. Y.S. Rajasekhara Reddy ACA-VDCA Cricket Sta...              0.000000   \n",
      "Dubai International Cricket Stadium                             0.000000   \n",
      "Eden Gardens                                                    1.298701   \n",
      "Eden Gardens, Kolkata                                           0.000000   \n",
      "Feroz Shah Kotla                                                1.666667   \n",
      "Green Park                                                      0.000000   \n",
      "Himachal Pradesh Cricket Association Stadium                    0.000000   \n",
      "Himachal Pradesh Cricket Association Stadium, D...              0.000000   \n",
      "Holkar Cricket Stadium                                         11.111111   \n",
      "JSCA International Stadium Complex                              0.000000   \n",
      "Kingsmead                                                       0.000000   \n",
      "M Chinnaswamy Stadium                                           0.000000   \n",
      "M Chinnaswamy Stadium, Bengaluru                                0.000000   \n",
      "M.Chinnaswamy Stadium                                           0.000000   \n",
      "MA Chidambaram Stadium                                          0.000000   \n",
      "MA Chidambaram Stadium, Chepauk                                 0.000000   \n",
      "MA Chidambaram Stadium, Chepauk, Chennai                        0.000000   \n",
      "Maharaja Yadavindra Singh International Cricket...              0.000000   \n",
      "Maharashtra Cricket Association Stadium                         0.000000   \n",
      "Maharashtra Cricket Association Stadium, Pune                   0.000000   \n",
      "Narendra Modi Stadium, Ahmedabad                                0.000000   \n",
      "Nehru Stadium                                                  40.000000   \n",
      "New Wanderers Stadium                                           0.000000   \n",
      "Newlands                                                        0.000000   \n",
      "OUTsurance Oval                                                 0.000000   \n",
      "Punjab Cricket Association IS Bindra Stadium                    0.000000   \n",
      "Punjab Cricket Association IS Bindra Stadium, M...              0.000000   \n",
      "Punjab Cricket Association IS Bindra Stadium, M...              0.000000   \n",
      "Punjab Cricket Association Stadium, Mohali                      0.000000   \n",
      "Rajiv Gandhi International Stadium                              0.000000   \n",
      "Rajiv Gandhi International Stadium, Uppal                       0.000000   \n",
      "Rajiv Gandhi International Stadium, Uppal, Hyde...              0.000000   \n",
      "Sardar Patel Stadium, Motera                                    0.000000   \n",
      "Saurashtra Cricket Association Stadium                          0.000000   \n",
      "Sawai Mansingh Stadium                                          0.000000   \n",
      "Sawai Mansingh Stadium, Jaipur                                  0.000000   \n",
      "Shaheed Veer Narayan Singh International Stadium                0.000000   \n",
      "Sharjah Cricket Stadium                                         0.000000   \n",
      "Sheikh Zayed Stadium                                            0.000000   \n",
      "St George's Park                                                0.000000   \n",
      "Subrata Roy Sahara Stadium                                      0.000000   \n",
      "SuperSport Park                                                 0.000000   \n",
      "Vidarbha Cricket Association Stadium, Jamtha                    0.000000   \n",
      "Wankhede Stadium                                                1.369863   \n",
      "Wankhede Stadium, Mumbai                                        0.000000   \n",
      "Zayed Cricket Stadium, Abu Dhabi                                0.000000   \n",
      "\n",
      "winner                                              Kolkata Knight Riders  \\\n",
      "venue                                                                       \n",
      "Arun Jaitley Stadium                                             0.000000   \n",
      "Arun Jaitley Stadium, Delhi                                      0.000000   \n",
      "Barabati Stadium                                                42.857143   \n",
      "Barsapara Cricket Stadium, Guwahati                              0.000000   \n",
      "Bharat Ratna Shri Atal Bihari Vajpayee Ekana Cr...               7.142857   \n",
      "Brabourne Stadium                                                0.000000   \n",
      "Brabourne Stadium, Mumbai                                        0.000000   \n",
      "Buffalo Park                                                     0.000000   \n",
      "De Beers Diamond Oval                                            0.000000   \n",
      "Dr DY Patil Sports Academy                                      11.764706   \n",
      "Dr DY Patil Sports Academy, Mumbai                               5.000000   \n",
      "Dr. Y.S. Rajasekhara Reddy ACA-VDCA Cricket Sta...               0.000000   \n",
      "Dr. Y.S. Rajasekhara Reddy ACA-VDCA Cricket Sta...              50.000000   \n",
      "Dubai International Cricket Stadium                              6.521739   \n",
      "Eden Gardens                                                    58.441558   \n",
      "Eden Gardens, Kolkata                                           43.750000   \n",
      "Feroz Shah Kotla                                                 8.333333   \n",
      "Green Park                                                       0.000000   \n",
      "Himachal Pradesh Cricket Association Stadium                     0.000000   \n",
      "Himachal Pradesh Cricket Association Stadium, D...               0.000000   \n",
      "Holkar Cricket Stadium                                          11.111111   \n",
      "JSCA International Stadium Complex                              14.285714   \n",
      "Kingsmead                                                       13.333333   \n",
      "M Chinnaswamy Stadium                                            9.230769   \n",
      "M Chinnaswamy Stadium, Bengaluru                                14.285714   \n",
      "M.Chinnaswamy Stadium                                           13.333333   \n",
      "MA Chidambaram Stadium                                           0.000000   \n",
      "MA Chidambaram Stadium, Chepauk                                  4.166667   \n",
      "MA Chidambaram Stadium, Chepauk, Chennai                        10.714286   \n",
      "Maharaja Yadavindra Singh International Cricket...               0.000000   \n",
      "Maharashtra Cricket Association Stadium                         13.636364   \n",
      "Maharashtra Cricket Association Stadium, Pune                   15.384615   \n",
      "Narendra Modi Stadium, Ahmedabad                                12.500000   \n",
      "Nehru Stadium                                                    0.000000   \n",
      "New Wanderers Stadium                                            0.000000   \n",
      "Newlands                                                         0.000000   \n",
      "OUTsurance Oval                                                  0.000000   \n",
      "Punjab Cricket Association IS Bindra Stadium                    10.000000   \n",
      "Punjab Cricket Association IS Bindra Stadium, M...               9.090909   \n",
      "Punjab Cricket Association IS Bindra Stadium, M...               0.000000   \n",
      "Punjab Cricket Association Stadium, Mohali                       5.714286   \n",
      "Rajiv Gandhi International Stadium                               6.666667   \n",
      "Rajiv Gandhi International Stadium, Uppal                        8.163265   \n",
      "Rajiv Gandhi International Stadium, Uppal, Hyde...               7.692308   \n",
      "Sardar Patel Stadium, Motera                                     0.000000   \n",
      "Saurashtra Cricket Association Stadium                          10.000000   \n",
      "Sawai Mansingh Stadium                                           6.382979   \n",
      "Sawai Mansingh Stadium, Jaipur                                   0.000000   \n",
      "Shaheed Veer Narayan Singh International Stadium                 0.000000   \n",
      "Sharjah Cricket Stadium                                         17.857143   \n",
      "Sheikh Zayed Stadium                                            20.689655   \n",
      "St George's Park                                                 0.000000   \n",
      "Subrata Roy Sahara Stadium                                      18.750000   \n",
      "SuperSport Park                                                  8.333333   \n",
      "Vidarbha Cricket Association Stadium, Jamtha                     0.000000   \n",
      "Wankhede Stadium                                                 1.369863   \n",
      "Wankhede Stadium, Mumbai                                         8.888889   \n",
      "Zayed Cricket Stadium, Abu Dhabi                                25.000000   \n",
      "\n",
      "winner                                              Lucknow Super Giants  \\\n",
      "venue                                                                      \n",
      "Arun Jaitley Stadium                                            0.000000   \n",
      "Arun Jaitley Stadium, Delhi                                     0.000000   \n",
      "Barabati Stadium                                                0.000000   \n",
      "Barsapara Cricket Stadium, Guwahati                             0.000000   \n",
      "Bharat Ratna Shri Atal Bihari Vajpayee Ekana Cr...             50.000000   \n",
      "Brabourne Stadium                                               0.000000   \n",
      "Brabourne Stadium, Mumbai                                      11.764706   \n",
      "Buffalo Park                                                    0.000000   \n",
      "De Beers Diamond Oval                                           0.000000   \n",
      "Dr DY Patil Sports Academy                                      0.000000   \n",
      "Dr DY Patil Sports Academy, Mumbai                             15.000000   \n",
      "Dr. Y.S. Rajasekhara Reddy ACA-VDCA Cricket Sta...              0.000000   \n",
      "Dr. Y.S. Rajasekhara Reddy ACA-VDCA Cricket Sta...              0.000000   \n",
      "Dubai International Cricket Stadium                             0.000000   \n",
      "Eden Gardens                                                    0.000000   \n",
      "Eden Gardens, Kolkata                                           6.250000   \n",
      "Feroz Shah Kotla                                                0.000000   \n",
      "Green Park                                                      0.000000   \n",
      "Himachal Pradesh Cricket Association Stadium                    0.000000   \n",
      "Himachal Pradesh Cricket Association Stadium, D...              0.000000   \n",
      "Holkar Cricket Stadium                                          0.000000   \n",
      "JSCA International Stadium Complex                              0.000000   \n",
      "Kingsmead                                                       0.000000   \n",
      "M Chinnaswamy Stadium                                           0.000000   \n",
      "M Chinnaswamy Stadium, Bengaluru                               14.285714   \n",
      "M.Chinnaswamy Stadium                                           0.000000   \n",
      "MA Chidambaram Stadium                                          0.000000   \n",
      "MA Chidambaram Stadium, Chepauk                                 0.000000   \n",
      "MA Chidambaram Stadium, Chepauk, Chennai                        3.571429   \n",
      "Maharaja Yadavindra Singh International Cricket...              0.000000   \n",
      "Maharashtra Cricket Association Stadium                         0.000000   \n",
      "Maharashtra Cricket Association Stadium, Pune                  15.384615   \n",
      "Narendra Modi Stadium, Ahmedabad                                0.000000   \n",
      "Nehru Stadium                                                   0.000000   \n",
      "New Wanderers Stadium                                           0.000000   \n",
      "Newlands                                                        0.000000   \n",
      "OUTsurance Oval                                                 0.000000   \n",
      "Punjab Cricket Association IS Bindra Stadium                    0.000000   \n",
      "Punjab Cricket Association IS Bindra Stadium, M...              0.000000   \n",
      "Punjab Cricket Association IS Bindra Stadium, M...             20.000000   \n",
      "Punjab Cricket Association Stadium, Mohali                      0.000000   \n",
      "Rajiv Gandhi International Stadium                              0.000000   \n",
      "Rajiv Gandhi International Stadium, Uppal                       0.000000   \n",
      "Rajiv Gandhi International Stadium, Uppal, Hyde...              7.692308   \n",
      "Sardar Patel Stadium, Motera                                    0.000000   \n",
      "Saurashtra Cricket Association Stadium                          0.000000   \n",
      "Sawai Mansingh Stadium                                          0.000000   \n",
      "Sawai Mansingh Stadium, Jaipur                                 10.000000   \n",
      "Shaheed Veer Narayan Singh International Stadium                0.000000   \n",
      "Sharjah Cricket Stadium                                         0.000000   \n",
      "Sheikh Zayed Stadium                                            0.000000   \n",
      "St George's Park                                                0.000000   \n",
      "Subrata Roy Sahara Stadium                                      0.000000   \n",
      "SuperSport Park                                                 0.000000   \n",
      "Vidarbha Cricket Association Stadium, Jamtha                    0.000000   \n",
      "Wankhede Stadium                                                0.000000   \n",
      "Wankhede Stadium, Mumbai                                        6.666667   \n",
      "Zayed Cricket Stadium, Abu Dhabi                                0.000000   \n",
      "\n",
      "winner                                              Mumbai Indians  No Result  \\\n",
      "venue                                                                           \n",
      "Arun Jaitley Stadium                                      7.142857   0.000000   \n",
      "Arun Jaitley Stadium, Delhi                              18.750000   0.000000   \n",
      "Barabati Stadium                                          0.000000   0.000000   \n",
      "Barsapara Cricket Stadium, Guwahati                       0.000000   0.000000   \n",
      "Bharat Ratna Shri Atal Bihari Vajpayee Ekana Cr...        0.000000   7.142857   \n",
      "Brabourne Stadium                                        50.000000   0.000000   \n",
      "Brabourne Stadium, Mumbai                                11.764706   0.000000   \n",
      "Buffalo Park                                             33.333333   0.000000   \n",
      "De Beers Diamond Oval                                     0.000000   0.000000   \n",
      "Dr DY Patil Sports Academy                               29.411765   0.000000   \n",
      "Dr DY Patil Sports Academy, Mumbai                        5.000000   0.000000   \n",
      "Dr. Y.S. Rajasekhara Reddy ACA-VDCA Cricket Sta...       15.384615   0.000000   \n",
      "Dr. Y.S. Rajasekhara Reddy ACA-VDCA Cricket Sta...        0.000000   0.000000   \n",
      "Dubai International Cricket Stadium                       6.521739   0.000000   \n",
      "Eden Gardens                                             12.987013   0.000000   \n",
      "Eden Gardens, Kolkata                                     0.000000   0.000000   \n",
      "Feroz Shah Kotla                                          5.000000   1.666667   \n",
      "Green Park                                                0.000000   0.000000   \n",
      "Himachal Pradesh Cricket Association Stadium              0.000000   0.000000   \n",
      "Himachal Pradesh Cricket Association Stadium, D...        0.000000   0.000000   \n",
      "Holkar Cricket Stadium                                   22.222222   0.000000   \n",
      "JSCA International Stadium Complex                        0.000000   0.000000   \n",
      "Kingsmead                                                 0.000000   0.000000   \n",
      "M Chinnaswamy Stadium                                    12.307692   3.076923   \n",
      "M Chinnaswamy Stadium, Bengaluru                          0.000000   0.000000   \n",
      "M.Chinnaswamy Stadium                                     6.666667   6.666667   \n",
      "MA Chidambaram Stadium                                   22.222222   0.000000   \n",
      "MA Chidambaram Stadium, Chepauk                           6.250000   0.000000   \n",
      "MA Chidambaram Stadium, Chepauk, Chennai                 10.714286   0.000000   \n",
      "Maharaja Yadavindra Singh International Cricket...       20.000000   0.000000   \n",
      "Maharashtra Cricket Association Stadium                   9.090909   0.000000   \n",
      "Maharashtra Cricket Association Stadium, Pune             0.000000   0.000000   \n",
      "Narendra Modi Stadium, Ahmedabad                          0.000000   0.000000   \n",
      "Nehru Stadium                                             0.000000   0.000000   \n",
      "New Wanderers Stadium                                     0.000000   0.000000   \n",
      "Newlands                                                 14.285714   0.000000   \n",
      "OUTsurance Oval                                           0.000000   0.000000   \n",
      "Punjab Cricket Association IS Bindra Stadium              0.000000   0.000000   \n",
      "Punjab Cricket Association IS Bindra Stadium, M...        9.090909   0.000000   \n",
      "Punjab Cricket Association IS Bindra Stadium, M...       20.000000   0.000000   \n",
      "Punjab Cricket Association Stadium, Mohali                8.571429   0.000000   \n",
      "Rajiv Gandhi International Stadium                       13.333333   0.000000   \n",
      "Rajiv Gandhi International Stadium, Uppal                10.204082   0.000000   \n",
      "Rajiv Gandhi International Stadium, Uppal, Hyde...        7.692308   0.000000   \n",
      "Sardar Patel Stadium, Motera                              8.333333   0.000000   \n",
      "Saurashtra Cricket Association Stadium                   10.000000   0.000000   \n",
      "Sawai Mansingh Stadium                                    4.255319   0.000000   \n",
      "Sawai Mansingh Stadium, Jaipur                            0.000000   0.000000   \n",
      "Shaheed Veer Narayan Singh International Stadium          0.000000   0.000000   \n",
      "Sharjah Cricket Stadium                                  10.714286   0.000000   \n",
      "Sheikh Zayed Stadium                                     20.689655   0.000000   \n",
      "St George's Park                                         28.571429   0.000000   \n",
      "Subrata Roy Sahara Stadium                               12.500000   0.000000   \n",
      "SuperSport Park                                           8.333333   0.000000   \n",
      "Vidarbha Cricket Association Stadium, Jamtha              0.000000   0.000000   \n",
      "Wankhede Stadium                                         57.534247   0.000000   \n",
      "Wankhede Stadium, Mumbai                                 22.222222   0.000000   \n",
      "Zayed Cricket Stadium, Abu Dhabi                         25.000000   0.000000   \n",
      "\n",
      "winner                                              Pune Warriors  \\\n",
      "venue                                                               \n",
      "Arun Jaitley Stadium                                     0.000000   \n",
      "Arun Jaitley Stadium, Delhi                              0.000000   \n",
      "Barabati Stadium                                         0.000000   \n",
      "Barsapara Cricket Stadium, Guwahati                      0.000000   \n",
      "Bharat Ratna Shri Atal Bihari Vajpayee Ekana Cr...       0.000000   \n",
      "Brabourne Stadium                                        0.000000   \n",
      "Brabourne Stadium, Mumbai                                0.000000   \n",
      "Buffalo Park                                             0.000000   \n",
      "De Beers Diamond Oval                                    0.000000   \n",
      "Dr DY Patil Sports Academy                              11.764706   \n",
      "Dr DY Patil Sports Academy, Mumbai                       0.000000   \n",
      "Dr. Y.S. Rajasekhara Reddy ACA-VDCA Cricket Sta...       0.000000   \n",
      "Dr. Y.S. Rajasekhara Reddy ACA-VDCA Cricket Sta...       0.000000   \n",
      "Dubai International Cricket Stadium                      0.000000   \n",
      "Eden Gardens                                             0.000000   \n",
      "Eden Gardens, Kolkata                                    0.000000   \n",
      "Feroz Shah Kotla                                         1.666667   \n",
      "Green Park                                               0.000000   \n",
      "Himachal Pradesh Cricket Association Stadium             0.000000   \n",
      "Himachal Pradesh Cricket Association Stadium, D...       0.000000   \n",
      "Holkar Cricket Stadium                                   0.000000   \n",
      "JSCA International Stadium Complex                      14.285714   \n",
      "Kingsmead                                                0.000000   \n",
      "M Chinnaswamy Stadium                                    0.000000   \n",
      "M Chinnaswamy Stadium, Bengaluru                         0.000000   \n",
      "M.Chinnaswamy Stadium                                    0.000000   \n",
      "MA Chidambaram Stadium                                   0.000000   \n",
      "MA Chidambaram Stadium, Chepauk                          2.083333   \n",
      "MA Chidambaram Stadium, Chepauk, Chennai                 0.000000   \n",
      "Maharaja Yadavindra Singh International Cricket...       0.000000   \n",
      "Maharashtra Cricket Association Stadium                  0.000000   \n",
      "Maharashtra Cricket Association Stadium, Pune            0.000000   \n",
      "Narendra Modi Stadium, Ahmedabad                         0.000000   \n",
      "Nehru Stadium                                            0.000000   \n",
      "New Wanderers Stadium                                    0.000000   \n",
      "Newlands                                                 0.000000   \n",
      "OUTsurance Oval                                          0.000000   \n",
      "Punjab Cricket Association IS Bindra Stadium             0.000000   \n",
      "Punjab Cricket Association IS Bindra Stadium, M...       0.000000   \n",
      "Punjab Cricket Association IS Bindra Stadium, M...       0.000000   \n",
      "Punjab Cricket Association Stadium, Mohali               2.857143   \n",
      "Rajiv Gandhi International Stadium                       0.000000   \n",
      "Rajiv Gandhi International Stadium, Uppal                2.040816   \n",
      "Rajiv Gandhi International Stadium, Uppal, Hyde...       0.000000   \n",
      "Sardar Patel Stadium, Motera                             0.000000   \n",
      "Saurashtra Cricket Association Stadium                   0.000000   \n",
      "Sawai Mansingh Stadium                                   0.000000   \n",
      "Sawai Mansingh Stadium, Jaipur                           0.000000   \n",
      "Shaheed Veer Narayan Singh International Stadium         0.000000   \n",
      "Sharjah Cricket Stadium                                  0.000000   \n",
      "Sheikh Zayed Stadium                                     0.000000   \n",
      "St George's Park                                         0.000000   \n",
      "Subrata Roy Sahara Stadium                              25.000000   \n",
      "SuperSport Park                                          0.000000   \n",
      "Vidarbha Cricket Association Stadium, Jamtha             0.000000   \n",
      "Wankhede Stadium                                         1.369863   \n",
      "Wankhede Stadium, Mumbai                                 0.000000   \n",
      "Zayed Cricket Stadium, Abu Dhabi                         0.000000   \n",
      "\n",
      "winner                                              Punjab Kings  \\\n",
      "venue                                                              \n",
      "Arun Jaitley Stadium                                    7.142857   \n",
      "Arun Jaitley Stadium, Delhi                             6.250000   \n",
      "Barabati Stadium                                       14.285714   \n",
      "Barsapara Cricket Stadium, Guwahati                    66.666667   \n",
      "Bharat Ratna Shri Atal Bihari Vajpayee Ekana Cr...      7.142857   \n",
      "Brabourne Stadium                                       0.000000   \n",
      "Brabourne Stadium, Mumbai                              11.764706   \n",
      "Buffalo Park                                            0.000000   \n",
      "De Beers Diamond Oval                                  33.333333   \n",
      "Dr DY Patil Sports Academy                              0.000000   \n",
      "Dr DY Patil Sports Academy, Mumbai                     10.000000   \n",
      "Dr. Y.S. Rajasekhara Reddy ACA-VDCA Cricket Sta...      7.692308   \n",
      "Dr. Y.S. Rajasekhara Reddy ACA-VDCA Cricket Sta...      0.000000   \n",
      "Dubai International Cricket Stadium                    15.217391   \n",
      "Eden Gardens                                            3.896104   \n",
      "Eden Gardens, Kolkata                                   6.250000   \n",
      "Feroz Shah Kotla                                        6.666667   \n",
      "Green Park                                              0.000000   \n",
      "Himachal Pradesh Cricket Association Stadium           55.555556   \n",
      "Himachal Pradesh Cricket Association Stadium, D...      0.000000   \n",
      "Holkar Cricket Stadium                                 44.444444   \n",
      "JSCA International Stadium Complex                      0.000000   \n",
      "Kingsmead                                              13.333333   \n",
      "M Chinnaswamy Stadium                                   7.692308   \n",
      "M Chinnaswamy Stadium, Bengaluru                        0.000000   \n",
      "M.Chinnaswamy Stadium                                   0.000000   \n",
      "MA Chidambaram Stadium                                  0.000000   \n",
      "MA Chidambaram Stadium, Chepauk                         4.166667   \n",
      "MA Chidambaram Stadium, Chepauk, Chennai               10.714286   \n",
      "Maharaja Yadavindra Singh International Cricket...     20.000000   \n",
      "Maharashtra Cricket Association Stadium                 0.000000   \n",
      "Maharashtra Cricket Association Stadium, Pune           7.692308   \n",
      "Narendra Modi Stadium, Ahmedabad                        8.333333   \n",
      "Nehru Stadium                                           0.000000   \n",
      "New Wanderers Stadium                                  12.500000   \n",
      "Newlands                                               14.285714   \n",
      "OUTsurance Oval                                        50.000000   \n",
      "Punjab Cricket Association IS Bindra Stadium           80.000000   \n",
      "Punjab Cricket Association IS Bindra Stadium, M...     36.363636   \n",
      "Punjab Cricket Association IS Bindra Stadium, M...     20.000000   \n",
      "Punjab Cricket Association Stadium, Mohali             51.428571   \n",
      "Rajiv Gandhi International Stadium                      0.000000   \n",
      "Rajiv Gandhi International Stadium, Uppal               8.163265   \n",
      "Rajiv Gandhi International Stadium, Uppal, Hyde...      0.000000   \n",
      "Sardar Patel Stadium, Motera                            8.333333   \n",
      "Saurashtra Cricket Association Stadium                 20.000000   \n",
      "Sawai Mansingh Stadium                                  2.127660   \n",
      "Sawai Mansingh Stadium, Jaipur                          0.000000   \n",
      "Shaheed Veer Narayan Singh International Stadium        0.000000   \n",
      "Sharjah Cricket Stadium                                17.857143   \n",
      "Sheikh Zayed Stadium                                    6.896552   \n",
      "St George's Park                                       14.285714   \n",
      "Subrata Roy Sahara Stadium                              6.250000   \n",
      "SuperSport Park                                         0.000000   \n",
      "Vidarbha Cricket Association Stadium, Jamtha            0.000000   \n",
      "Wankhede Stadium                                        6.849315   \n",
      "Wankhede Stadium, Mumbai                                8.888889   \n",
      "Zayed Cricket Stadium, Abu Dhabi                        0.000000   \n",
      "\n",
      "winner                                              Rajasthan Royals  \\\n",
      "venue                                                                  \n",
      "Arun Jaitley Stadium                                        0.000000   \n",
      "Arun Jaitley Stadium, Delhi                                 6.250000   \n",
      "Barabati Stadium                                            0.000000   \n",
      "Barsapara Cricket Stadium, Guwahati                        33.333333   \n",
      "Bharat Ratna Shri Atal Bihari Vajpayee Ekana Cr...          7.142857   \n",
      "Brabourne Stadium                                          20.000000   \n",
      "Brabourne Stadium, Mumbai                                  17.647059   \n",
      "Buffalo Park                                                0.000000   \n",
      "De Beers Diamond Oval                                       0.000000   \n",
      "Dr DY Patil Sports Academy                                  5.882353   \n",
      "Dr DY Patil Sports Academy, Mumbai                          5.000000   \n",
      "Dr. Y.S. Rajasekhara Reddy ACA-VDCA Cricket Sta...          7.692308   \n",
      "Dr. Y.S. Rajasekhara Reddy ACA-VDCA Cricket Sta...          0.000000   \n",
      "Dubai International Cricket Stadium                         4.347826   \n",
      "Eden Gardens                                                2.597403   \n",
      "Eden Gardens, Kolkata                                      12.500000   \n",
      "Feroz Shah Kotla                                            6.666667   \n",
      "Green Park                                                  0.000000   \n",
      "Himachal Pradesh Cricket Association Stadium                0.000000   \n",
      "Himachal Pradesh Cricket Association Stadium, D...         25.000000   \n",
      "Holkar Cricket Stadium                                      0.000000   \n",
      "JSCA International Stadium Complex                          0.000000   \n",
      "Kingsmead                                                  13.333333   \n",
      "M Chinnaswamy Stadium                                       4.615385   \n",
      "M Chinnaswamy Stadium, Bengaluru                            0.000000   \n",
      "M.Chinnaswamy Stadium                                       6.666667   \n",
      "MA Chidambaram Stadium                                      0.000000   \n",
      "MA Chidambaram Stadium, Chepauk                             2.083333   \n",
      "MA Chidambaram Stadium, Chepauk, Chennai                    3.571429   \n",
      "Maharaja Yadavindra Singh International Cricket...         20.000000   \n",
      "Maharashtra Cricket Association Stadium                     4.545455   \n",
      "Maharashtra Cricket Association Stadium, Pune              15.384615   \n",
      "Narendra Modi Stadium, Ahmedabad                           12.500000   \n",
      "Nehru Stadium                                               0.000000   \n",
      "New Wanderers Stadium                                       0.000000   \n",
      "Newlands                                                   14.285714   \n",
      "OUTsurance Oval                                             0.000000   \n",
      "Punjab Cricket Association IS Bindra Stadium                0.000000   \n",
      "Punjab Cricket Association IS Bindra Stadium, M...          0.000000   \n",
      "Punjab Cricket Association IS Bindra Stadium, M...          0.000000   \n",
      "Punjab Cricket Association Stadium, Mohali                  8.571429   \n",
      "Rajiv Gandhi International Stadium                          0.000000   \n",
      "Rajiv Gandhi International Stadium, Uppal                   4.081633   \n",
      "Rajiv Gandhi International Stadium, Uppal, Hyde...          7.692308   \n",
      "Sardar Patel Stadium, Motera                               58.333333   \n",
      "Saurashtra Cricket Association Stadium                      0.000000   \n",
      "Sawai Mansingh Stadium                                     68.085106   \n",
      "Sawai Mansingh Stadium, Jaipur                             50.000000   \n",
      "Shaheed Veer Narayan Singh International Stadium            0.000000   \n",
      "Sharjah Cricket Stadium                                     7.142857   \n",
      "Sheikh Zayed Stadium                                       20.689655   \n",
      "St George's Park                                           14.285714   \n",
      "Subrata Roy Sahara Stadium                                  6.250000   \n",
      "SuperSport Park                                            16.666667   \n",
      "Vidarbha Cricket Association Stadium, Jamtha               33.333333   \n",
      "Wankhede Stadium                                            5.479452   \n",
      "Wankhede Stadium, Mumbai                                   13.333333   \n",
      "Zayed Cricket Stadium, Abu Dhabi                           12.500000   \n",
      "\n",
      "winner                                              Rising Pune Supergiant  \\\n",
      "venue                                                                        \n",
      "Arun Jaitley Stadium                                              0.000000   \n",
      "Arun Jaitley Stadium, Delhi                                       0.000000   \n",
      "Barabati Stadium                                                  0.000000   \n",
      "Barsapara Cricket Stadium, Guwahati                               0.000000   \n",
      "Bharat Ratna Shri Atal Bihari Vajpayee Ekana Cr...                0.000000   \n",
      "Brabourne Stadium                                                 0.000000   \n",
      "Brabourne Stadium, Mumbai                                         0.000000   \n",
      "Buffalo Park                                                      0.000000   \n",
      "De Beers Diamond Oval                                             0.000000   \n",
      "Dr DY Patil Sports Academy                                        0.000000   \n",
      "Dr DY Patil Sports Academy, Mumbai                                0.000000   \n",
      "Dr. Y.S. Rajasekhara Reddy ACA-VDCA Cricket Sta...                0.000000   \n",
      "Dr. Y.S. Rajasekhara Reddy ACA-VDCA Cricket Sta...                0.000000   \n",
      "Dubai International Cricket Stadium                               0.000000   \n",
      "Eden Gardens                                                      1.298701   \n",
      "Eden Gardens, Kolkata                                             0.000000   \n",
      "Feroz Shah Kotla                                                  0.000000   \n",
      "Green Park                                                        0.000000   \n",
      "Himachal Pradesh Cricket Association Stadium                      0.000000   \n",
      "Himachal Pradesh Cricket Association Stadium, D...                0.000000   \n",
      "Holkar Cricket Stadium                                            0.000000   \n",
      "JSCA International Stadium Complex                                0.000000   \n",
      "Kingsmead                                                         0.000000   \n",
      "M Chinnaswamy Stadium                                             1.538462   \n",
      "M Chinnaswamy Stadium, Bengaluru                                  0.000000   \n",
      "M.Chinnaswamy Stadium                                             0.000000   \n",
      "MA Chidambaram Stadium                                            0.000000   \n",
      "MA Chidambaram Stadium, Chepauk                                   0.000000   \n",
      "MA Chidambaram Stadium, Chepauk, Chennai                          0.000000   \n",
      "Maharaja Yadavindra Singh International Cricket...                0.000000   \n",
      "Maharashtra Cricket Association Stadium                          22.727273   \n",
      "Maharashtra Cricket Association Stadium, Pune                     0.000000   \n",
      "Narendra Modi Stadium, Ahmedabad                                  0.000000   \n",
      "Nehru Stadium                                                     0.000000   \n",
      "New Wanderers Stadium                                             0.000000   \n",
      "Newlands                                                          0.000000   \n",
      "OUTsurance Oval                                                   0.000000   \n",
      "Punjab Cricket Association IS Bindra Stadium                      0.000000   \n",
      "Punjab Cricket Association IS Bindra Stadium, M...                0.000000   \n",
      "Punjab Cricket Association IS Bindra Stadium, M...                0.000000   \n",
      "Punjab Cricket Association Stadium, Mohali                        0.000000   \n",
      "Rajiv Gandhi International Stadium                                0.000000   \n",
      "Rajiv Gandhi International Stadium, Uppal                         2.040816   \n",
      "Rajiv Gandhi International Stadium, Uppal, Hyde...                0.000000   \n",
      "Sardar Patel Stadium, Motera                                      0.000000   \n",
      "Saurashtra Cricket Association Stadium                            0.000000   \n",
      "Sawai Mansingh Stadium                                            0.000000   \n",
      "Sawai Mansingh Stadium, Jaipur                                    0.000000   \n",
      "Shaheed Veer Narayan Singh International Stadium                  0.000000   \n",
      "Sharjah Cricket Stadium                                           0.000000   \n",
      "Sheikh Zayed Stadium                                              0.000000   \n",
      "St George's Park                                                  0.000000   \n",
      "Subrata Roy Sahara Stadium                                        0.000000   \n",
      "SuperSport Park                                                   0.000000   \n",
      "Vidarbha Cricket Association Stadium, Jamtha                      0.000000   \n",
      "Wankhede Stadium                                                  2.739726   \n",
      "Wankhede Stadium, Mumbai                                          0.000000   \n",
      "Zayed Cricket Stadium, Abu Dhabi                                  0.000000   \n",
      "\n",
      "winner                                              Rising Pune Supergiants  \\\n",
      "venue                                                                         \n",
      "Arun Jaitley Stadium                                               0.000000   \n",
      "Arun Jaitley Stadium, Delhi                                        0.000000   \n",
      "Barabati Stadium                                                   0.000000   \n",
      "Barsapara Cricket Stadium, Guwahati                                0.000000   \n",
      "Bharat Ratna Shri Atal Bihari Vajpayee Ekana Cr...                 0.000000   \n",
      "Brabourne Stadium                                                  0.000000   \n",
      "Brabourne Stadium, Mumbai                                          0.000000   \n",
      "Buffalo Park                                                       0.000000   \n",
      "De Beers Diamond Oval                                              0.000000   \n",
      "Dr DY Patil Sports Academy                                         0.000000   \n",
      "Dr DY Patil Sports Academy, Mumbai                                 0.000000   \n",
      "Dr. Y.S. Rajasekhara Reddy ACA-VDCA Cricket Sta...                15.384615   \n",
      "Dr. Y.S. Rajasekhara Reddy ACA-VDCA Cricket Sta...                 0.000000   \n",
      "Dubai International Cricket Stadium                                0.000000   \n",
      "Eden Gardens                                                       0.000000   \n",
      "Eden Gardens, Kolkata                                              0.000000   \n",
      "Feroz Shah Kotla                                                   1.666667   \n",
      "Green Park                                                         0.000000   \n",
      "Himachal Pradesh Cricket Association Stadium                       0.000000   \n",
      "Himachal Pradesh Cricket Association Stadium, D...                 0.000000   \n",
      "Holkar Cricket Stadium                                             0.000000   \n",
      "JSCA International Stadium Complex                                 0.000000   \n",
      "Kingsmead                                                          0.000000   \n",
      "M Chinnaswamy Stadium                                              0.000000   \n",
      "M Chinnaswamy Stadium, Bengaluru                                   0.000000   \n",
      "M.Chinnaswamy Stadium                                              0.000000   \n",
      "MA Chidambaram Stadium                                             0.000000   \n",
      "MA Chidambaram Stadium, Chepauk                                    0.000000   \n",
      "MA Chidambaram Stadium, Chepauk, Chennai                           0.000000   \n",
      "Maharaja Yadavindra Singh International Cricket...                 0.000000   \n",
      "Maharashtra Cricket Association Stadium                            0.000000   \n",
      "Maharashtra Cricket Association Stadium, Pune                      0.000000   \n",
      "Narendra Modi Stadium, Ahmedabad                                   0.000000   \n",
      "Nehru Stadium                                                      0.000000   \n",
      "New Wanderers Stadium                                              0.000000   \n",
      "Newlands                                                           0.000000   \n",
      "OUTsurance Oval                                                    0.000000   \n",
      "Punjab Cricket Association IS Bindra Stadium                       0.000000   \n",
      "Punjab Cricket Association IS Bindra Stadium, M...                 0.000000   \n",
      "Punjab Cricket Association IS Bindra Stadium, M...                 0.000000   \n",
      "Punjab Cricket Association Stadium, Mohali                         0.000000   \n",
      "Rajiv Gandhi International Stadium                                 0.000000   \n",
      "Rajiv Gandhi International Stadium, Uppal                          2.040816   \n",
      "Rajiv Gandhi International Stadium, Uppal, Hyde...                 0.000000   \n",
      "Sardar Patel Stadium, Motera                                       0.000000   \n",
      "Saurashtra Cricket Association Stadium                             0.000000   \n",
      "Sawai Mansingh Stadium                                             0.000000   \n",
      "Sawai Mansingh Stadium, Jaipur                                     0.000000   \n",
      "Shaheed Veer Narayan Singh International Stadium                   0.000000   \n",
      "Sharjah Cricket Stadium                                            0.000000   \n",
      "Sheikh Zayed Stadium                                               0.000000   \n",
      "St George's Park                                                   0.000000   \n",
      "Subrata Roy Sahara Stadium                                         0.000000   \n",
      "SuperSport Park                                                    0.000000   \n",
      "Vidarbha Cricket Association Stadium, Jamtha                       0.000000   \n",
      "Wankhede Stadium                                                   1.369863   \n",
      "Wankhede Stadium, Mumbai                                           0.000000   \n",
      "Zayed Cricket Stadium, Abu Dhabi                                   0.000000   \n",
      "\n",
      "winner                                              Royal Challengers Bangalore  \\\n",
      "venue                                                                             \n",
      "Arun Jaitley Stadium                                                   7.142857   \n",
      "Arun Jaitley Stadium, Delhi                                            0.000000   \n",
      "Barabati Stadium                                                       0.000000   \n",
      "Barsapara Cricket Stadium, Guwahati                                    0.000000   \n",
      "Bharat Ratna Shri Atal Bihari Vajpayee Ekana Cr...                     7.142857   \n",
      "Brabourne Stadium                                                     10.000000   \n",
      "Brabourne Stadium, Mumbai                                              0.000000   \n",
      "Buffalo Park                                                           0.000000   \n",
      "De Beers Diamond Oval                                                  0.000000   \n",
      "Dr DY Patil Sports Academy                                             5.882353   \n",
      "Dr DY Patil Sports Academy, Mumbai                                    10.000000   \n",
      "Dr. Y.S. Rajasekhara Reddy ACA-VDCA Cricket Sta...                     0.000000   \n",
      "Dr. Y.S. Rajasekhara Reddy ACA-VDCA Cricket Sta...                     0.000000   \n",
      "Dubai International Cricket Stadium                                   17.391304   \n",
      "Eden Gardens                                                           5.194805   \n",
      "Eden Gardens, Kolkata                                                  6.250000   \n",
      "Feroz Shah Kotla                                                       8.333333   \n",
      "Green Park                                                             0.000000   \n",
      "Himachal Pradesh Cricket Association Stadium                           0.000000   \n",
      "Himachal Pradesh Cricket Association Stadium, D...                     0.000000   \n",
      "Holkar Cricket Stadium                                                11.111111   \n",
      "JSCA International Stadium Complex                                    14.285714   \n",
      "Kingsmead                                                             20.000000   \n",
      "M Chinnaswamy Stadium                                                 44.615385   \n",
      "M Chinnaswamy Stadium, Bengaluru                                      21.428571   \n",
      "M.Chinnaswamy Stadium                                                 53.333333   \n",
      "MA Chidambaram Stadium                                                 0.000000   \n",
      "MA Chidambaram Stadium, Chepauk                                        4.166667   \n",
      "MA Chidambaram Stadium, Chepauk, Chennai                              10.714286   \n",
      "Maharaja Yadavindra Singh International Cricket...                     0.000000   \n",
      "Maharashtra Cricket Association Stadium                                9.090909   \n",
      "Maharashtra Cricket Association Stadium, Pune                         15.384615   \n",
      "Narendra Modi Stadium, Ahmedabad                                       4.166667   \n",
      "Nehru Stadium                                                         20.000000   \n",
      "New Wanderers Stadium                                                 37.500000   \n",
      "Newlands                                                              14.285714   \n",
      "OUTsurance Oval                                                        0.000000   \n",
      "Punjab Cricket Association IS Bindra Stadium                          10.000000   \n",
      "Punjab Cricket Association IS Bindra Stadium, M...                     9.090909   \n",
      "Punjab Cricket Association IS Bindra Stadium, M...                    20.000000   \n",
      "Punjab Cricket Association Stadium, Mohali                             5.714286   \n",
      "Rajiv Gandhi International Stadium                                     0.000000   \n",
      "Rajiv Gandhi International Stadium, Uppal                              4.081633   \n",
      "Rajiv Gandhi International Stadium, Uppal, Hyde...                     7.692308   \n",
      "Sardar Patel Stadium, Motera                                           8.333333   \n",
      "Saurashtra Cricket Association Stadium                                10.000000   \n",
      "Sawai Mansingh Stadium                                                 6.382979   \n",
      "Sawai Mansingh Stadium, Jaipur                                        10.000000   \n",
      "Shaheed Veer Narayan Singh International Stadium                      16.666667   \n",
      "Sharjah Cricket Stadium                                               10.714286   \n",
      "Sheikh Zayed Stadium                                                   6.896552   \n",
      "St George's Park                                                       0.000000   \n",
      "Subrata Roy Sahara Stadium                                            12.500000   \n",
      "SuperSport Park                                                       16.666667   \n",
      "Vidarbha Cricket Association Stadium, Jamtha                           0.000000   \n",
      "Wankhede Stadium                                                       4.109589   \n",
      "Wankhede Stadium, Mumbai                                              11.111111   \n",
      "Zayed Cricket Stadium, Abu Dhabi                                       0.000000   \n",
      "\n",
      "winner                                              Royal Challengers Bengaluru  \\\n",
      "venue                                                                             \n",
      "Arun Jaitley Stadium                                                   0.000000   \n",
      "Arun Jaitley Stadium, Delhi                                            0.000000   \n",
      "Barabati Stadium                                                       0.000000   \n",
      "Barsapara Cricket Stadium, Guwahati                                    0.000000   \n",
      "Bharat Ratna Shri Atal Bihari Vajpayee Ekana Cr...                     0.000000   \n",
      "Brabourne Stadium                                                      0.000000   \n",
      "Brabourne Stadium, Mumbai                                              0.000000   \n",
      "Buffalo Park                                                           0.000000   \n",
      "De Beers Diamond Oval                                                  0.000000   \n",
      "Dr DY Patil Sports Academy                                             0.000000   \n",
      "Dr DY Patil Sports Academy, Mumbai                                     0.000000   \n",
      "Dr. Y.S. Rajasekhara Reddy ACA-VDCA Cricket Sta...                     0.000000   \n",
      "Dr. Y.S. Rajasekhara Reddy ACA-VDCA Cricket Sta...                     0.000000   \n",
      "Dubai International Cricket Stadium                                    0.000000   \n",
      "Eden Gardens                                                           0.000000   \n",
      "Eden Gardens, Kolkata                                                  0.000000   \n",
      "Feroz Shah Kotla                                                       0.000000   \n",
      "Green Park                                                             0.000000   \n",
      "Himachal Pradesh Cricket Association Stadium                           0.000000   \n",
      "Himachal Pradesh Cricket Association Stadium, D...                    25.000000   \n",
      "Holkar Cricket Stadium                                                 0.000000   \n",
      "JSCA International Stadium Complex                                     0.000000   \n",
      "Kingsmead                                                              0.000000   \n",
      "M Chinnaswamy Stadium                                                  0.000000   \n",
      "M Chinnaswamy Stadium, Bengaluru                                      28.571429   \n",
      "M.Chinnaswamy Stadium                                                  0.000000   \n",
      "MA Chidambaram Stadium                                                 0.000000   \n",
      "MA Chidambaram Stadium, Chepauk                                        0.000000   \n",
      "MA Chidambaram Stadium, Chepauk, Chennai                               0.000000   \n",
      "Maharaja Yadavindra Singh International Cricket...                     0.000000   \n",
      "Maharashtra Cricket Association Stadium                                0.000000   \n",
      "Maharashtra Cricket Association Stadium, Pune                          0.000000   \n",
      "Narendra Modi Stadium, Ahmedabad                                       4.166667   \n",
      "Nehru Stadium                                                          0.000000   \n",
      "New Wanderers Stadium                                                  0.000000   \n",
      "Newlands                                                               0.000000   \n",
      "OUTsurance Oval                                                        0.000000   \n",
      "Punjab Cricket Association IS Bindra Stadium                           0.000000   \n",
      "Punjab Cricket Association IS Bindra Stadium, M...                     0.000000   \n",
      "Punjab Cricket Association IS Bindra Stadium, M...                     0.000000   \n",
      "Punjab Cricket Association Stadium, Mohali                             0.000000   \n",
      "Rajiv Gandhi International Stadium                                     0.000000   \n",
      "Rajiv Gandhi International Stadium, Uppal                              0.000000   \n",
      "Rajiv Gandhi International Stadium, Uppal, Hyde...                     7.692308   \n",
      "Sardar Patel Stadium, Motera                                           0.000000   \n",
      "Saurashtra Cricket Association Stadium                                 0.000000   \n",
      "Sawai Mansingh Stadium                                                 0.000000   \n",
      "Sawai Mansingh Stadium, Jaipur                                         0.000000   \n",
      "Shaheed Veer Narayan Singh International Stadium                       0.000000   \n",
      "Sharjah Cricket Stadium                                                0.000000   \n",
      "Sheikh Zayed Stadium                                                   0.000000   \n",
      "St George's Park                                                       0.000000   \n",
      "Subrata Roy Sahara Stadium                                             0.000000   \n",
      "SuperSport Park                                                        0.000000   \n",
      "Vidarbha Cricket Association Stadium, Jamtha                           0.000000   \n",
      "Wankhede Stadium                                                       0.000000   \n",
      "Wankhede Stadium, Mumbai                                               0.000000   \n",
      "Zayed Cricket Stadium, Abu Dhabi                                       0.000000   \n",
      "\n",
      "winner                                              Sunrisers Hyderabad  \n",
      "venue                                                                    \n",
      "Arun Jaitley Stadium                                          14.285714  \n",
      "Arun Jaitley Stadium, Delhi                                   12.500000  \n",
      "Barabati Stadium                                              42.857143  \n",
      "Barsapara Cricket Stadium, Guwahati                            0.000000  \n",
      "Bharat Ratna Shri Atal Bihari Vajpayee Ekana Cr...             0.000000  \n",
      "Brabourne Stadium                                             10.000000  \n",
      "Brabourne Stadium, Mumbai                                     11.764706  \n",
      "Buffalo Park                                                   0.000000  \n",
      "De Beers Diamond Oval                                         33.333333  \n",
      "Dr DY Patil Sports Academy                                    11.764706  \n",
      "Dr DY Patil Sports Academy, Mumbai                            15.000000  \n",
      "Dr. Y.S. Rajasekhara Reddy ACA-VDCA Cricket Sta...            23.076923  \n",
      "Dr. Y.S. Rajasekhara Reddy ACA-VDCA Cricket Sta...             0.000000  \n",
      "Dubai International Cricket Stadium                           15.217391  \n",
      "Eden Gardens                                                   2.597403  \n",
      "Eden Gardens, Kolkata                                          6.250000  \n",
      "Feroz Shah Kotla                                              10.000000  \n",
      "Green Park                                                    25.000000  \n",
      "Himachal Pradesh Cricket Association Stadium                  22.222222  \n",
      "Himachal Pradesh Cricket Association Stadium, D...             0.000000  \n",
      "Holkar Cricket Stadium                                         0.000000  \n",
      "JSCA International Stadium Complex                            14.285714  \n",
      "Kingsmead                                                     13.333333  \n",
      "M Chinnaswamy Stadium                                          4.615385  \n",
      "M Chinnaswamy Stadium, Bengaluru                               7.142857  \n",
      "M.Chinnaswamy Stadium                                          0.000000  \n",
      "MA Chidambaram Stadium                                         0.000000  \n",
      "MA Chidambaram Stadium, Chepauk                                4.166667  \n",
      "MA Chidambaram Stadium, Chepauk, Chennai                       7.142857  \n",
      "Maharaja Yadavindra Singh International Cricket...            20.000000  \n",
      "Maharashtra Cricket Association Stadium                        4.545455  \n",
      "Maharashtra Cricket Association Stadium, Pune                  0.000000  \n",
      "Narendra Modi Stadium, Ahmedabad                               0.000000  \n",
      "Nehru Stadium                                                 20.000000  \n",
      "New Wanderers Stadium                                         25.000000  \n",
      "Newlands                                                      28.571429  \n",
      "OUTsurance Oval                                                0.000000  \n",
      "Punjab Cricket Association IS Bindra Stadium                   0.000000  \n",
      "Punjab Cricket Association IS Bindra Stadium, M...            18.181818  \n",
      "Punjab Cricket Association IS Bindra Stadium, M...             0.000000  \n",
      "Punjab Cricket Association Stadium, Mohali                     5.714286  \n",
      "Rajiv Gandhi International Stadium                            66.666667  \n",
      "Rajiv Gandhi International Stadium, Uppal                     46.938776  \n",
      "Rajiv Gandhi International Stadium, Uppal, Hyde...            46.153846  \n",
      "Sardar Patel Stadium, Motera                                   8.333333  \n",
      "Saurashtra Cricket Association Stadium                        10.000000  \n",
      "Sawai Mansingh Stadium                                         2.127660  \n",
      "Sawai Mansingh Stadium, Jaipur                                10.000000  \n",
      "Shaheed Veer Narayan Singh International Stadium              16.666667  \n",
      "Sharjah Cricket Stadium                                        7.142857  \n",
      "Sheikh Zayed Stadium                                           6.896552  \n",
      "St George's Park                                               0.000000  \n",
      "Subrata Roy Sahara Stadium                                     6.250000  \n",
      "SuperSport Park                                               16.666667  \n",
      "Vidarbha Cricket Association Stadium, Jamtha                  66.666667  \n",
      "Wankhede Stadium                                               2.739726  \n",
      "Wankhede Stadium, Mumbai                                       2.222222  \n",
      "Zayed Cricket Stadium, Abu Dhabi                              12.500000  \n"
     ]
    }
   ],
   "source": [
    "# Venue impact on wins\n",
    "venue_wins = matches.groupby(['venue', 'winner']).size().unstack().fillna(0)\n",
    "venue_win_percentage = venue_wins.div(venue_wins.sum(axis=1), axis=0) * 100\n",
    "print('\\nVenue Win Percentage:')\n",
    "print(venue_win_percentage)\n"
   ]
  },
  {
   "cell_type": "markdown",
   "metadata": {},
   "source": [
    "### Statistical Tests"
   ]
  },
  {
   "cell_type": "code",
   "execution_count": 98,
   "metadata": {},
   "outputs": [
    {
     "name": "stdout",
     "output_type": "stream",
     "text": [
      "\n",
      "Chi-square Test (Toss Win vs. Match Win): p-value = 0.0688\n",
      "\n",
      "T-test (Home vs. Away Win Rates): p-value = 0.9831\n",
      "\n",
      "Batting First Win Rate in Finals: 50.00%\n"
     ]
    }
   ],
   "source": [
    "from scipy.stats import chi2_contingency, ttest_ind\n",
    "\n",
    "# Chi-square Test: Toss Win vs. Match Win (excluding 'No Result')\n",
    "toss_match = pd.crosstab(\n",
    "    matches['toss_winner'] == matches['winner'],\n",
    "    matches['winner'] != 'No Result'\n",
    ")\n",
    "chi2, p, _, _ = chi2_contingency(toss_match)\n",
    "print(f'\\nChi-square Test (Toss Win vs. Match Win): p-value = {p:.4f}')\n",
    "\n",
    "# T-test: Venue Advantage (Home vs. Away win rates)\n",
    "# Create home and away win columns\n",
    "matches['home_win'] = matches['winner'] == matches['home_team']\n",
    "matches['away_team'] = matches.apply(\n",
    "    lambda row: row['team2'] if row['team1'] == row['home_team'] else row['team1'], axis=1\n",
    ")\n",
    "matches['away_win'] = matches['winner'] == matches['away_team']\n",
    "\n",
    "# Compute win rates by team\n",
    "home_win_rates = matches.groupby('home_team')['home_win'].mean()\n",
    "away_win_rates = matches.groupby('away_team')['away_win'].mean()\n",
    "\n",
    "# Perform T-test\n",
    "t_stat, p_val = ttest_ind(home_win_rates.dropna(), away_win_rates.dropna())\n",
    "print(f'\\nT-test (Home vs. Away Win Rates): p-value = {p_val:.4f}')\n",
    "\n",
    "# Batting First in Finals\n",
    "finals = matches[matches['match_type'].str.contains('Final', case=False, na=False)]\n",
    "bat_first = finals[finals['toss_decision'] == 'bat']\n",
    "bat_first_wins = bat_first[bat_first['winner'].notna()].shape[0] / finals.shape[0]\n",
    "print(f'\\nBatting First Win Rate in Finals: {bat_first_wins:.2%}')\n"
   ]
  },
  {
   "cell_type": "markdown",
   "metadata": {},
   "source": [
    "### Visualization: Winning percentage\n"
   ]
  },
  {
   "cell_type": "code",
   "execution_count": 99,
   "metadata": {},
   "outputs": [
    {
     "data": {
      "image/png": "[encoded data removed]",
      "text/plain": [
       "<Figure size 1200x800 with 2 Axes>"
      ]
     },
     "metadata": {},
     "output_type": "display_data"
    }
   ],
   "source": [
    "# Heatmap: Team vs. Team\n",
    "plt.figure(figsize=(12, 8))\n",
    "sns.heatmap(head_to_head, annot=True, cmap='Blues')\n",
    "plt.title('Team vs. Team Head-to-Head')\n",
    "plt.show()"
   ]
  },
  {
   "cell_type": "code",
   "execution_count": 102,
   "metadata": {},
   "outputs": [
    {
     "data": {
      "text/plain": [
       "<Figure size 1000x600 with 0 Axes>"
      ]
     },
     "metadata": {},
     "output_type": "display_data"
    },
    {
     "data": {
      "image/png": "[encoded data removed]",
      "text/plain": [
       "<Figure size 640x480 with 1 Axes>"
      ]
     },
     "metadata": {},
     "output_type": "display_data"
    }
   ],
   "source": [
    "# Cumulative runs\n",
    "top_batters = runs_per_season.groupby('batter')['batsman_runs'].sum().sort_values(ascending=False).head(5).index\n",
    "cumulative_runs = runs_per_season[runs_per_season['batter'].isin(top_batters)].pivot(index='season', columns='batter', values='batsman_runs').cumsum()\n",
    "plt.figure(figsize=(10, 6))\n",
    "cumulative_runs.plot()\n",
    "plt.title('Cumulative Runs by Top Batters')\n",
    "plt.xlabel('Season')\n",
    "plt.ylabel('Runs')\n",
    "plt.show()\n"
   ]
  },
  {
   "cell_type": "code",
   "execution_count": 103,
   "metadata": {},
   "outputs": [],
   "source": [
    "# Save precomputed stats\n",
    "orange_cap.to_json('../data/precomputed_stats/orange_cap.json')\n",
    "purple_cap.to_json('../data/precomputed_stats/purple_cap.json')\n",
    "team_matches.to_json('../data/precomputed_stats/team_stats.json')\n",
    "\n",
    "# Save processed data\n",
    "matches.to_csv('../data/matches_processed.csv', index=False)\n",
    "deliveries.to_csv('../data/deliveries_processed.csv', index=False)"
   ]
  }
 ],
 "metadata": {
  "kernelspec": {
   "display_name": "venv",
   "language": "python",
   "name": "python3"
  },
  "language_info": {
   "codemirror_mode": {
    "name": "ipython",
    "version": 3
   },
   "file_extension": ".py",
   "mimetype": "text/x-python",
   "name": "python",
   "nbconvert_exporter": "python",
   "pygments_lexer": "ipython3",
   "version": "3.10.16"
  }
 },
 "nbformat": 4,
 "nbformat_minor": 4
}
